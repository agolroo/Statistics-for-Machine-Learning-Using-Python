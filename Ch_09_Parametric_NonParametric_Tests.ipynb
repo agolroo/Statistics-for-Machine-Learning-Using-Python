{
  "nbformat": 4,
  "nbformat_minor": 0,
  "metadata": {
    "colab": {
      "provenance": []
    },
    "kernelspec": {
      "name": "python3",
      "display_name": "Python 3"
    },
    "language_info": {
      "name": "python"
    }
  },
  "cells": [
    {
      "cell_type": "markdown",
      "source": [
        "Data preparation"
      ],
      "metadata": {
        "id": "5kdtBYtQUUK6"
      }
    },
    {
      "cell_type": "code",
      "execution_count": null,
      "metadata": {
        "id": "0hneAWcdSbW8"
      },
      "outputs": [],
      "source": [
        "# Book Figure 9-1\n",
        "\n",
        "import seaborn as sns\n",
        "\n",
        "titanic = sns.load_dataset('titanic')\n",
        "\n",
        "not_survived_fare = titanic[titanic['survived'] == 0 ]['fare']\n",
        "survived_fare = titanic[titanic['survived'] == 1 ]['fare']"
      ]
    },
    {
      "cell_type": "markdown",
      "source": [
        "Normality and t-test"
      ],
      "metadata": {
        "id": "WLtXIKd3UaYA"
      }
    },
    {
      "cell_type": "code",
      "source": [
        "# Book Figure 9-2\n",
        "\n",
        "from scipy import stats\n",
        "from scipy.stats import ttest_ind, shapiro, norm\n",
        "\n",
        "# Test the normality of the not survived fare data\n",
        "stat, p = shapiro(not_survived_fare)\n",
        "alpha = 0.05\n",
        "z_crt=norm.ppf(1-alpha/2)\n",
        "if abs(stat) < z_crt:\n",
        "    print('Fail to Reject H0 (not survived fare data distributed Normal)')\n",
        "else:\n",
        "    print('Reject H0 (not survived fare data not distributed Normal)')\n",
        "\n",
        "# Test the normality of the survived fare data\n",
        "stat, p = shapiro(survived_fare)\n",
        "alpha = 0.05\n",
        "if abs(stat) < z_crt:\n",
        "    print('Fail to Reject H0 (survived fare data distributed Normal)')\n",
        "else:\n",
        "    print('Reject H0 (survived fare data not distributed Normal)')\n",
        "# Run t-Test\n",
        "t_stat, p = ttest_ind(survived_fare, not_survived_fare)\n",
        "\n",
        "print('Statistics=%.3f, p=%.3f' % (t_stat, p))\n",
        "alpha = 0.05\n",
        "if p > alpha:\n",
        "    print('Fail to Reject H0 (difference is non-significant)')\n",
        "else:\n",
        "    print('Reject H0 (difference is significant)')\n"
      ],
      "metadata": {
        "id": "IylyeeDfUgGX"
      },
      "execution_count": null,
      "outputs": []
    },
    {
      "cell_type": "markdown",
      "source": [
        "Data generation for non-parametric tests"
      ],
      "metadata": {
        "id": "w9K3qi3Ioj8V"
      }
    },
    {
      "cell_type": "code",
      "source": [
        "# generate uniform data samples\n",
        "from numpy.random import seed\n",
        "from numpy.random import rand\n",
        "from numpy import mean\n",
        "from numpy import std\n",
        "\n",
        "# seed the random number generator\n",
        "seed(1)\n",
        "# generate two sets of univariate observations\n",
        "data1 = 5 * rand(100) + 50\n",
        "data2 = 5 * rand(100) + 51\n",
        "# summarize\n",
        "print('data1: mean=%.3f stdv=%.3f' % (mean(data1), std(data1)))\n",
        "print('data2: mean=%.3f stdv=%.3f' % (mean(data2), std(data2)))\n"
      ],
      "metadata": {
        "id": "39L6iz4TorOd"
      },
      "execution_count": null,
      "outputs": []
    },
    {
      "cell_type": "markdown",
      "source": [
        "Chi Square Test (One sample for a nominal variable)"
      ],
      "metadata": {
        "id": "CgpJn0YmtwFZ"
      }
    },
    {
      "cell_type": "code",
      "source": [
        "df=pd.read_csv('/content/drive/MyDrive/Colab Notebooks/CSV_Files/09_Parametric_Nonparametric_Tests.csv')\n",
        "f_obs=[]\n",
        "# C=df.groupby([df.Veh_Type]).count()\n",
        "f_obs=df['Veh_Type'].value_counts()\n",
        "f_exp=[15,12,13,16,16,17,6,5]\n",
        "from scipy.stats import chisquare\n",
        "chisquare(f_obs=f_obs, f_exp=f_exp)\n",
        "\n"
      ],
      "metadata": {
        "colab": {
          "base_uri": "https://localhost:8080/"
        },
        "id": "-gQjMyBtqHYG",
        "outputId": "db590b10-5e2e-4bf7-f03c-8960b2c7b6ff"
      },
      "execution_count": 26,
      "outputs": [
        {
          "output_type": "execute_result",
          "data": {
            "text/plain": [
              "Power_divergenceResult(statistic=8.900150829562595, pvalue=0.25990456040611837)"
            ]
          },
          "metadata": {},
          "execution_count": 26
        }
      ]
    },
    {
      "cell_type": "markdown",
      "source": [
        "Wilcoxon test (one sample for an ordinal variable)"
      ],
      "metadata": {
        "id": "cbl85echuDGe"
      }
    },
    {
      "cell_type": "code",
      "source": [
        "from scipy.stats import wilcoxon\n",
        "import pandas as pd\n",
        "import numpy as np\n",
        "\n",
        "# Your data (a list)\n",
        "df=pd.read_csv('/content/drive/MyDrive/Colab Notebooks/CSV_Files/09_Parametric_Nonparametric_Tests.csv')\n",
        "\n",
        "# The single value you want to compare against\n",
        "reference_value = 3\n",
        "differences = [x - reference_value for x in df.PCI]\n",
        "\n",
        "# Perform the one-sample Wilcoxon signed-rank test\n",
        "statistic, p_value = wilcoxon(differences)\n",
        "\n",
        "# Output the results\n",
        "print(f\"Wilcoxon Statistic: {statistic}\")\n",
        "print(f\"P-value: {p_value}\")\n",
        "\n",
        "# Check if the result is statistically significant (common alpha level is 0.05)\n",
        "if p_value < 0.05:\n",
        "    print(\"The difference is statistically significant.\")\n",
        "else:\n",
        "    print(\"The difference is not statistically significant.\")\n"
      ],
      "metadata": {
        "colab": {
          "base_uri": "https://localhost:8080/"
        },
        "id": "amEQMGCWcVyU",
        "outputId": "35719eaa-5d14-40d3-cffe-2b07d8f5c56a"
      },
      "execution_count": 3,
      "outputs": [
        {
          "output_type": "stream",
          "name": "stdout",
          "text": [
            "Wilcoxon Statistic: 1748.0\n",
            "P-value: 0.8669500276906402\n",
            "The difference is not statistically significant.\n"
          ]
        }
      ]
    },
    {
      "cell_type": "markdown",
      "source": [
        "Wilcoxon test (one sample for a continuous variable)"
      ],
      "metadata": {
        "id": "FmmGdrzhxuko"
      }
    },
    {
      "cell_type": "code",
      "source": [
        "stat, p = wilcoxon(df.TT_Bef-20)\n",
        "\n",
        "\n",
        "print('Statistics=%.3f, p=%.3f' % (stat, p))\n",
        "# interpret\n",
        "alpha = 0.05\n",
        "if p > alpha:\n",
        "    print('Same distribution (fail to reject H0)')\n",
        "else:\n",
        "    print('Different distribution (reject H0)')\n"
      ],
      "metadata": {
        "id": "iT3PcQnnx247",
        "colab": {
          "base_uri": "https://localhost:8080/"
        },
        "outputId": "ff575b80-fcac-410f-cd3b-eae11a9bfa69"
      },
      "execution_count": 64,
      "outputs": [
        {
          "output_type": "stream",
          "name": "stdout",
          "text": [
            "Statistics=2292.000, p=0.423\n",
            "Same distribution (fail to reject H0)\n"
          ]
        }
      ]
    },
    {
      "cell_type": "markdown",
      "source": [
        "Wilcoxon test (two paired samples)"
      ],
      "metadata": {
        "id": "HKkp242gwA4b"
      }
    },
    {
      "cell_type": "code",
      "source": [
        "from scipy.stats import wilcoxon\n",
        "# compare samples\n",
        "# stat, p = wilcoxon(data1, data2)\n",
        "stat, p = wilcoxon(df.TT_Bef, df.TT_Aft)\n",
        "print('Statistics=%.3f, p=%.3f' % (stat, p))\n",
        "# interpret\n",
        "alpha = 0.05\n",
        "if p > alpha:\n",
        "    print('Same distribution (fail to reject H0)')\n",
        "else:\n",
        "    print('Different distribution (reject H0)')\n"
      ],
      "metadata": {
        "id": "fEnHUyuUwEBj",
        "colab": {
          "base_uri": "https://localhost:8080/"
        },
        "outputId": "bc3393a9-439d-4228-b656-f7fd16f78579"
      },
      "execution_count": 29,
      "outputs": [
        {
          "output_type": "stream",
          "name": "stdout",
          "text": [
            "Statistics=208.000, p=0.000\n",
            "Different distribution (reject H0)\n"
          ]
        }
      ]
    },
    {
      "cell_type": "markdown",
      "source": [
        "Mann-whitney test (two unpaired samples)"
      ],
      "metadata": {
        "id": "vzMreOXgqfrK"
      }
    },
    {
      "cell_type": "code",
      "source": [
        "from scipy.stats import mannwhitneyu\n",
        "# compare samples\n",
        "# stat, p = mannwhitneyu(data1, data2)\n",
        "stat, p = mannwhitneyu(df.Ma_Acc, df.Fe_Acc)\n",
        "print('Statistics=%.3f, p=%.3f' % (stat, p))\n",
        "# interpret\n",
        "alpha = 0.05\n",
        "if p > alpha:\n",
        "    print('Same distribution (fail to reject H0)')\n",
        "else:\n",
        "    print('Different distribution (reject H0)')\n"
      ],
      "metadata": {
        "id": "0FCcaDPtqmsT",
        "colab": {
          "base_uri": "https://localhost:8080/"
        },
        "outputId": "7e9b4159-ded8-417a-a71c-7ecd1087a671"
      },
      "execution_count": 27,
      "outputs": [
        {
          "output_type": "stream",
          "name": "stdout",
          "text": [
            "Statistics=4256.000, p=0.068\n",
            "Same distribution (fail to reject H0)\n"
          ]
        }
      ]
    },
    {
      "cell_type": "markdown",
      "source": [
        "Kruskal-Wallis test (more than two unpaired samples)"
      ],
      "metadata": {
        "id": "7eXQIBlL0sUA"
      }
    },
    {
      "cell_type": "code",
      "source": [
        "import numpy as np\n",
        "data1 = np.random.rand(100)*5 + 50\n",
        "data2 = np.random.rand(100)*5 + 50\n",
        "data3 = np.random.rand(100)*5 + 52\n",
        "\n",
        "from scipy.stats import kruskal\n",
        "\n",
        "# stats,p=kruskal(data1,data2,data3)\n",
        "stats,p=kruskal(df.Teh,df.Shi,df.Isf)\n",
        "print('Statistics=%.3f, p=%.3f' % (stat, p))\n",
        "\n",
        "alpha=0.05\n",
        "\n",
        "if p>alpha:\n",
        "    print('Same distribution (fail to reject H0)')\n",
        "else:\n",
        "    print('Different distribution (reject H0)')\n"
      ],
      "metadata": {
        "id": "yIhMp1pR0vJ7",
        "colab": {
          "base_uri": "https://localhost:8080/"
        },
        "outputId": "855a7a15-9118-4320-f427-04ccec017815"
      },
      "execution_count": 34,
      "outputs": [
        {
          "output_type": "stream",
          "name": "stdout",
          "text": [
            "Statistics=56.420, p=0.000\n",
            "Different distribution (reject H0)\n"
          ]
        }
      ]
    },
    {
      "cell_type": "markdown",
      "source": [
        "Friedman test (more than two paired samples)"
      ],
      "metadata": {
        "id": "x0q9mznZ34sP"
      }
    },
    {
      "cell_type": "code",
      "source": [
        "from scipy.stats import friedmanchisquare\n",
        "df=pd.read_csv('/content/drive/MyDrive/Colab Notebooks/CSV_Files/09_Parametric_Nonparametric_Tests.csv')\n",
        "\n",
        "# seed the random number generator\n",
        "# seed(1)\n",
        "# generate three independent samples\n",
        "data1 = np.random.rand(100)*5 + 50\n",
        "data2 = np.random.rand(100)*5 + 50\n",
        "data3 = np.random.rand(100)*5 + 52\n",
        "# compare samples\n",
        "# stat, p = friedmanchisquare(data1, data2, data3)\n",
        "stat, p = friedmanchisquare(df.EM, df.MD, df.LN)\n",
        "\n",
        "print('Statistics=%.3f, p=%.3f' % (stat, p))\n",
        "# interpret\n",
        "alpha = 0.05\n",
        "if p > alpha:\n",
        "    print('Same distributions (fail to reject H0)')\n",
        "else:\n",
        "    print('Different distributions (reject H0)')\n"
      ],
      "metadata": {
        "colab": {
          "base_uri": "https://localhost:8080/"
        },
        "id": "CqtoABiE36s_",
        "outputId": "4d11e26e-0f4c-48e0-b0af-4eb23b8f04c2"
      },
      "execution_count": 61,
      "outputs": [
        {
          "output_type": "stream",
          "name": "stdout",
          "text": [
            "Statistics=73.860, p=0.000\n",
            "Different distributions (reject H0)\n"
          ]
        }
      ]
    },
    {
      "cell_type": "code",
      "source": [
        "from google.colab import drive\n",
        "drive.mount('/content/drive')"
      ],
      "metadata": {
        "colab": {
          "base_uri": "https://localhost:8080/"
        },
        "id": "7EBiQJFZw3Ih",
        "outputId": "9d3cb697-885e-4d0a-d53d-fc258c9f8a58"
      },
      "execution_count": 54,
      "outputs": [
        {
          "output_type": "stream",
          "name": "stdout",
          "text": [
            "Drive already mounted at /content/drive; to attempt to forcibly remount, call drive.mount(\"/content/drive\", force_remount=True).\n"
          ]
        }
      ]
    }
  ]
}