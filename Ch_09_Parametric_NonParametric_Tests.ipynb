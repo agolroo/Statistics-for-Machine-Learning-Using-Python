{
  "nbformat": 4,
  "nbformat_minor": 0,
  "metadata": {
    "colab": {
      "provenance": []
    },
    "kernelspec": {
      "name": "python3",
      "display_name": "Python 3"
    },
    "language_info": {
      "name": "python"
    }
  },
  "cells": [
    {
      "cell_type": "markdown",
      "source": [
        "Data preparation"
      ],
      "metadata": {
        "id": "5kdtBYtQUUK6"
      }
    },
    {
      "cell_type": "code",
      "execution_count": 34,
      "metadata": {
        "id": "0hneAWcdSbW8"
      },
      "outputs": [],
      "source": [
        "# Book Figure 9-1\n",
        "\n",
        "import seaborn as sns\n",
        "\n",
        "titanic = sns.load_dataset('titanic')\n",
        "\n",
        "not_survived_fare = titanic[titanic['survived'] == 0 ]['fare']\n",
        "survived_fare = titanic[titanic['survived'] == 1 ]['fare']"
      ]
    },
    {
      "cell_type": "markdown",
      "source": [
        "Normality and t-test"
      ],
      "metadata": {
        "id": "WLtXIKd3UaYA"
      }
    },
    {
      "cell_type": "code",
      "source": [
        "# Book Figure 9-2\n",
        "\n",
        "from scipy import stats\n",
        "from scipy.stats import ttest_ind, shapiro, norm\n",
        "\n",
        "# Test the normality of the not survived fare data\n",
        "stat, p = shapiro(not_survived_fare)\n",
        "alpha = 0.05\n",
        "z_crt=norm.ppf(1-alpha/2)\n",
        "if abs(stat) < z_crt:\n",
        "    print('Fail to Reject H0 (not survived fare data distributed Normal)')\n",
        "else:\n",
        "    print('Reject H0 (not survived fare data not distributed Normal)')\n",
        "\n",
        "# Test the normality of the survived fare data\n",
        "stat, p = shapiro(survived_fare)\n",
        "alpha = 0.05\n",
        "if abs(stat) < z_crt:\n",
        "    print('Fail to Reject H0 (survived fare data distributed Normal)')\n",
        "else:\n",
        "    print('Reject H0 (survived fare data not distributed Normal)')\n",
        "# Run t-Test\n",
        "t_stat, p = ttest_ind(survived_fare, not_survived_fare)\n",
        "\n",
        "print('Statistics=%.3f, p=%.3f' % (t_stat, p))\n",
        "alpha = 0.05\n",
        "if p > alpha:\n",
        "    print('Fail to Reject H0 (difference is non-significant)')\n",
        "else:\n",
        "    print('Reject H0 (difference is significant)')\n"
      ],
      "metadata": {
        "id": "IylyeeDfUgGX"
      },
      "execution_count": null,
      "outputs": []
    },
    {
      "cell_type": "markdown",
      "source": [
        "Data generation for non-parametric tests"
      ],
      "metadata": {
        "id": "w9K3qi3Ioj8V"
      }
    },
    {
      "cell_type": "code",
      "source": [
        "# generate uniform data samples\n",
        "from numpy.random import seed\n",
        "from numpy.random import rand\n",
        "from numpy import mean\n",
        "from numpy import std\n",
        "\n",
        "# seed the random number generator\n",
        "seed(1)\n",
        "# generate two sets of univariate observations\n",
        "data1 = 5 * rand(100) + 50\n",
        "data2 = 5 * rand(100) + 51\n",
        "# summarize\n",
        "print('data1: mean=%.3f stdv=%.3f' % (mean(data1), std(data1)))\n",
        "print('data2: mean=%.3f stdv=%.3f' % (mean(data2), std(data2)))\n"
      ],
      "metadata": {
        "id": "39L6iz4TorOd"
      },
      "execution_count": null,
      "outputs": []
    },
    {
      "cell_type": "markdown",
      "source": [
        "Mann-whitney test"
      ],
      "metadata": {
        "id": "vzMreOXgqfrK"
      }
    },
    {
      "cell_type": "code",
      "source": [
        "from scipy.stats import mannwhitneyu\n",
        "# compare samples\n",
        "stat, p = mannwhitneyu(data1, data2)\n",
        "print('Statistics=%.3f, p=%.3f' % (stat, p))\n",
        "# interpret\n",
        "alpha = 0.05\n",
        "if p > alpha:\n",
        "    print('Same distribution (fail to reject H0)')\n",
        "else:\n",
        "    print('Different distribution (reject H0)')\n"
      ],
      "metadata": {
        "id": "0FCcaDPtqmsT"
      },
      "execution_count": null,
      "outputs": []
    },
    {
      "cell_type": "markdown",
      "source": [
        "Wilcoxon test"
      ],
      "metadata": {
        "id": "HKkp242gwA4b"
      }
    },
    {
      "cell_type": "code",
      "source": [
        "from scipy.stats import wilcoxon\n",
        "# compare samples\n",
        "stat, p = wilcoxon(data1, data2)\n",
        "print('Statistics=%.3f, p=%.3f' % (stat, p))\n",
        "# interpret\n",
        "alpha = 0.05\n",
        "if p > alpha:\n",
        "    print('Same distribution (fail to reject H0)')\n",
        "else:\n",
        "    print('Different distribution (reject H0)')\n"
      ],
      "metadata": {
        "id": "fEnHUyuUwEBj"
      },
      "execution_count": null,
      "outputs": []
    },
    {
      "cell_type": "markdown",
      "source": [
        "Wilcoxon paired test"
      ],
      "metadata": {
        "id": "FmmGdrzhxuko"
      }
    },
    {
      "cell_type": "code",
      "source": [
        "stat, p = wilcoxon(data1-data2)\n",
        "\n",
        "print('Statistics=%.3f, p=%.3f' % (stat, p))\n",
        "# interpret\n",
        "alpha = 0.05\n",
        "if p > alpha:\n",
        "    print('Same distribution (fail to reject H0)')\n",
        "else:\n",
        "    print('Different distribution (reject H0)')\n"
      ],
      "metadata": {
        "id": "iT3PcQnnx247"
      },
      "execution_count": null,
      "outputs": []
    },
    {
      "cell_type": "markdown",
      "source": [
        "Kruskal-Wallis test"
      ],
      "metadata": {
        "id": "7eXQIBlL0sUA"
      }
    },
    {
      "cell_type": "code",
      "source": [
        "import numpy as np\n",
        "data1 = np.random.rand(100)*5 + 50\n",
        "data2 = np.random.rand(100)*5 + 50\n",
        "data3 = np.random.rand(100)*5 + 52\n",
        "\n",
        "from scipy.stats import kruskal\n",
        "\n",
        "stats,p=kruskal(data1,data2,data3)\n",
        "print('Statistics=%.3f, p=%.3f' % (stat, p))\n",
        "\n",
        "alpha=0.05\n",
        "\n",
        "if p>alpha:\n",
        "    print('Same distribution (fail to reject H0)')\n",
        "else:\n",
        "    print('Different distribution (reject H0)')\n"
      ],
      "metadata": {
        "id": "yIhMp1pR0vJ7"
      },
      "execution_count": null,
      "outputs": []
    },
    {
      "cell_type": "markdown",
      "source": [
        "Friedman test"
      ],
      "metadata": {
        "id": "x0q9mznZ34sP"
      }
    },
    {
      "cell_type": "code",
      "source": [
        "from scipy.stats import friedmanchisquare\n",
        "\n",
        "# seed the random number generator\n",
        "seed(1)\n",
        "# generate three independent samples\n",
        "data1 = np.random.rand(100)*5 + 50\n",
        "data2 = np.random.rand(100)*5 + 50\n",
        "data3 = np.random.rand(100)*5 + 52\n",
        "# compare samples\n",
        "stat, p = friedmanchisquare(data1, data2, data3)\n",
        "print('Statistics=%.3f, p=%.3f' % (stat, p))\n",
        "# interpret\n",
        "alpha = 0.05\n",
        "if p > alpha:\n",
        "    print('Same distributions (fail to reject H0)')\n",
        "else:\n",
        "    print('Different distributions (reject H0)')\n"
      ],
      "metadata": {
        "colab": {
          "base_uri": "https://localhost:8080/"
        },
        "id": "CqtoABiE36s_",
        "outputId": "2c6a3f85-797f-4c68-a1cd-3f50324a3995"
      },
      "execution_count": 41,
      "outputs": [
        {
          "output_type": "stream",
          "name": "stdout",
          "text": [
            "Statistics=76.020, p=0.000\n",
            "Different distributions (reject H0)\n"
          ]
        }
      ]
    }
  ]
}