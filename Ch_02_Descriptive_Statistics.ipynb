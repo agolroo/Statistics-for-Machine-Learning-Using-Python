{
  "nbformat": 4,
  "nbformat_minor": 0,
  "metadata": {
    "colab": {
      "provenance": []
    },
    "kernelspec": {
      "name": "python3",
      "display_name": "Python 3"
    },
    "language_info": {
      "name": "python"
    }
  },
  "cells": [
    {
      "cell_type": "markdown",
      "source": [
        "Center Statistics"
      ],
      "metadata": {
        "id": "6ww0JNAq-gnI"
      }
    },
    {
      "cell_type": "code",
      "execution_count": null,
      "metadata": {
        "id": "k1MLGXn77Z-t"
      },
      "outputs": [],
      "source": [
        "# Book Figure 2.2\n",
        "\n",
        "import pandas as pd\n",
        "import numpy as np\n",
        "from scipy import stats\n",
        "\n",
        "!wget -O FuelConsumption.csv https://cf-courses-data.s3.us.cloud-object-storage.appdomain.cloud/IBMDeveloperSkillsNetwork-ML0101EN-SkillsNetwork/labs/Module%202/data/FuelConsumptionCo2.csv\n",
        "\n",
        "df = pd.read_csv(\"FuelConsumption.csv\")\n",
        "print ('Mean:',df.mean())\n",
        "print ('Median:',df.median())\n",
        "print ('Mode:',df.mode())\n",
        "# df.describe()\n",
        "# df.head()\n",
        "# df.hist()\n",
        "\n"
      ]
    },
    {
      "cell_type": "markdown",
      "source": [
        "1) All Variation Statistics"
      ],
      "metadata": {
        "id": "nUQD2P8qB0Dk"
      }
    },
    {
      "cell_type": "code",
      "source": [
        "# Book Figure 2.9\n",
        "\n",
        "import pandas as pd\n",
        "import numpy as np\n",
        "from scipy.stats import skew, kurtosis\n",
        "\n",
        "\n",
        "!wget -O FuelConsumption.csv https://cf-courses-data.s3.us.cloud-object-storage.appdomain.cloud/IBMDeveloperSkillsNetwork-ML0101EN-SkillsNetwork/labs/Module%202/data/FuelConsumptionCo2.csv\n",
        "\n",
        "df = pd.read_csv(\"FuelConsumption.csv\")\n",
        "dfe=df['ENGINESIZE']\n",
        "print(\"Satandard Deviation:\", np.std(dfe))\n",
        "print(\"Quartiles:\", np.quantile(dfe,[0,0.25,0.50,0.75,1.0]))\n",
        "print(\"Percentile 90%:\", np.percentile(dfe , 90))\n",
        "print(\"Population Skewness:\", skew(dfe)) # Population skewness\n",
        "print(\"Sample Skewness:\", skew(dfe,bias=False)) # Sample skewness\n",
        "print(\"Population Kurtosis:\", kurtosis(dfe,fisher=True)) # Population kurtosis\n",
        "print(\"Sample Kurtosis:\", kurtosis(dfe,bias=False)) # Sample kurtosis\n",
        "print(\"Covariance:\", np.cov(df['CO2EMISSIONS'],df['ENGINESIZE']))\n",
        "print(\"Correlation Coefficient:\", df[['CO2EMISSIONS','ENGINESIZE']].corr())\n",
        "\n",
        "# data statistics\n",
        "df.describe()\n"
      ],
      "metadata": {
        "id": "qGmsP_G7B9IW"
      },
      "execution_count": null,
      "outputs": []
    },
    {
      "cell_type": "markdown",
      "source": [
        "Variation Statistics\n",
        "\n",
        "\n",
        "\n",
        " 2) *Skewness value and plot*"
      ],
      "metadata": {
        "id": "s1xWhlW-2W6g"
      }
    },
    {
      "cell_type": "code",
      "source": [
        "# Book Figure 2.6\n",
        "\n",
        "import matplotlib.pyplot as plt\n",
        "import scipy.stats as stats\n",
        "from scipy.stats import kurtosis\n",
        "x = np.linspace(-5, 5, 100)\n",
        "ax = plt.subplot()\n",
        "distnames = ['laplace', 'norm', 'uniform']\n",
        "for distname in distnames:\n",
        "    if distname == 'uniform':\n",
        "        dist = getattr(stats, distname)(loc=-2, scale=4)\n",
        "    else:\n",
        "        dist = getattr(stats, distname)\n",
        "    data = dist.rvs(size=100000)\n",
        "    kur = kurtosis(data, fisher=False)\n",
        "    y = dist.pdf(x)\n",
        "    ax.plot(x, y, label=\"{}, {}\".format(distname, round(kur, 3)))\n",
        "    ax.legend()"
      ],
      "metadata": {
        "id": "uueIAFru2aR4"
      },
      "execution_count": null,
      "outputs": []
    },
    {
      "cell_type": "markdown",
      "source": [
        "3) Correlation Matrix Heatmap"
      ],
      "metadata": {
        "id": "ZXdURzgJBGQc"
      }
    },
    {
      "cell_type": "code",
      "source": [
        "# Book Figure 2.8\n",
        "\n",
        "import pandas as pd\n",
        "import seaborn as sn\n",
        "\n",
        "!wget -O FuelConsumption.csv https://cf-courses-data.s3.us.cloud-object-storage.appdomain.cloud/IBMDeveloperSkillsNetwork-ML0101EN-SkillsNetwork/labs/Module%202/data/FuelConsumptionCo2.csv\n",
        "\n",
        "df = pd.read_csv(\"FuelConsumption.csv\")\n",
        "\n",
        "sn.heatmap(df.corr(), annot=True)\n"
      ],
      "metadata": {
        "id": "CQc6sf2yAKbe"
      },
      "execution_count": null,
      "outputs": []
    },
    {
      "cell_type": "markdown",
      "source": [
        "4) Outliers effect"
      ],
      "metadata": {
        "id": "eRZPyqCBcQ1E"
      }
    },
    {
      "cell_type": "code",
      "source": [
        "ex=[18,19,20,16,15,19,20,19,18,17,19,20]\n",
        "print ('Mean:',np.mean(ex))\n",
        "print ('Median:',np.median(ex))\n",
        "print ('STD:',np.std(ex))\n",
        "print ('Range:',max(ex)-min(ex))"
      ],
      "metadata": {
        "id": "T0miFoePbj9B"
      },
      "execution_count": null,
      "outputs": []
    }
  ]
}