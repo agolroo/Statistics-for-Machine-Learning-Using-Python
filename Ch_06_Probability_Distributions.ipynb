{
  "nbformat": 4,
  "nbformat_minor": 0,
  "metadata": {
    "colab": {
      "provenance": []
    },
    "kernelspec": {
      "name": "python3",
      "display_name": "Python 3"
    },
    "language_info": {
      "name": "python"
    }
  },
  "cells": [
    {
      "cell_type": "markdown",
      "source": [
        "Discrete probability (PMF, PDF, Mean, Var)"
      ],
      "metadata": {
        "id": "iZ-A0xK9VywA"
      }
    },
    {
      "cell_type": "code",
      "execution_count": null,
      "metadata": {
        "id": "nPa-8bjNUbb6"
      },
      "outputs": [],
      "source": [
        "# Book Figure 6-2\n",
        "\n",
        "import matplotlib.pyplot as plt\n",
        "import pandas as pd\n",
        "import numpy as np\n",
        "\n",
        "PMF = [.58, .34, .07, .01]\n",
        "DV = [0,1,2,3]\n",
        "df = pd.DataFrame({'PMF' : [.58, .34, .07, .01],'DV' : [0,1,2,3]})\n",
        "plt.bar(df['DV'], df['PMF'], width = 0.4)\n",
        "plt.bar(df['DV'] , df['PMF'].cumsum(), alpha=.5)\n",
        "plt.xlabel('Number of Earthquake')\n",
        "plt.ylabel('Probability')\n",
        "Mean = np.dot(PMF,DV)\n",
        "print(\"DV Mean is:\", Mean)\n",
        "Dev2=np.square(DV-Mean)\n",
        "Var = np.dot(Dev2,PMF)\n",
        "print(\"DV Variance is:\" ,Var)"
      ]
    },
    {
      "cell_type": "markdown",
      "source": [
        "Discrete probability (simulation)"
      ],
      "metadata": {
        "id": "O8uasdfYY4id"
      }
    },
    {
      "cell_type": "code",
      "source": [
        "# Book Figure 6-5\n",
        "\n",
        "import matplotlib.pyplot as plt\n",
        "import numpy as np\n",
        "\n",
        "NUM_ROLLS = 1000\n",
        "values = [1, 2, 3, 4, 5, 6]\n",
        "\n",
        "# Fair sided die\n",
        "sample = np.random.choice(values, NUM_ROLLS)\n",
        "side, count = np.unique(sample, return_counts=True)\n",
        "probs = count / len(sample)\n",
        "plt.bar(side, probs, color='blue')\n",
        "plt.title(\n",
        "    f\"Discrete Probability Distribution for Fair 6-Sided Die ({NUM_ROLLS} rolls)\")\n",
        "plt.ylabel(\"Probability\")\n",
        "plt.xlabel(\"Outcome\")\n",
        "plt.show()\n",
        "\n",
        "# Unfair sided die\n",
        "probs = [0.1, 0.1, 0.1, 0.1, 0.1, 0.5]\n",
        "sample = np.random.choice(values, NUM_ROLLS, p=probs)\n",
        "side, count = np.unique(sample, return_counts=True)\n",
        "probs = count / len(sample)\n",
        "plt.bar(side, probs, color='red')\n",
        "plt.title(\n",
        "    f\"Discrete Probability Distribution for UnFair 6-Sided Die ({NUM_ROLLS} rolls)\")\n",
        "plt.ylabel(\"Probability\")\n",
        "plt.xlabel(\"Outcome\")\n",
        "plt.show()"
      ],
      "metadata": {
        "id": "hoeLAIUAZKPT"
      },
      "execution_count": null,
      "outputs": []
    },
    {
      "cell_type": "markdown",
      "source": [
        "Bernouli event simulation"
      ],
      "metadata": {
        "id": "yxHLuum9dz94"
      }
    },
    {
      "cell_type": "code",
      "source": [
        "# Book Figure 6-6\n",
        "\n",
        "import numpy as np\n",
        "\n",
        "BE = np.random.randint(0,2)\n",
        "if BE==1:\n",
        "  print('Success')\n",
        "else:\n",
        "  print('Failure')"
      ],
      "metadata": {
        "colab": {
          "base_uri": "https://localhost:8080/"
        },
        "id": "D9FWmUk2d4zZ",
        "outputId": "62e062bf-c9a3-4bac-9ec6-21374982f9ef"
      },
      "execution_count": null,
      "outputs": [
        {
          "output_type": "stream",
          "name": "stdout",
          "text": [
            "Success\n"
          ]
        }
      ]
    },
    {
      "cell_type": "markdown",
      "source": [
        "Coin flipping simulation"
      ],
      "metadata": {
        "id": "0AXZhbN4irQb"
      }
    },
    {
      "cell_type": "code",
      "source": [
        "# Book Figure 6-8\n",
        "\n",
        "import matplotlib.pyplot as plt\n",
        "import numpy as np\n",
        "\n",
        "np.random.seed(10)\n",
        "def frequency_heads(coin_flip_sequence):\n",
        "    total_heads = len([head for head in coin_flip_sequence if head == 1])\n",
        "    return total_heads / len(coin_flip_sequence)\n",
        "coin_flips = [np.random.randint(0, 2) for _ in range(10)]\n",
        "freq_heads = frequency_heads(coin_flips)\n",
        "print(f\"Relative Frequency of Heads is {freq_heads}\")\n",
        "\n",
        "np.random.seed(0)\n",
        "coin_flips = []\n",
        "frequencies = []\n",
        "for _ in range(1000):\n",
        "    coin_flips.append(np.random.randint(0, 2))\n",
        "    frequencies.append(frequency_heads(coin_flips))\n",
        "plt.plot(list(range(1000)), frequencies)\n",
        "plt.axhline(0.5, color='k')\n",
        "plt.xlabel('Number of Coin Flips')\n",
        "plt.ylabel('Head-Relative Frequency')\n",
        "plt.show()"
      ],
      "metadata": {
        "id": "bT7B4paOiwO6"
      },
      "execution_count": null,
      "outputs": []
    },
    {
      "cell_type": "markdown",
      "source": [
        "Bernouli event in scipy"
      ],
      "metadata": {
        "id": "Sshm9M4CkuMj"
      }
    },
    {
      "cell_type": "code",
      "source": [
        "# Book Figure 6-10\n",
        "\n",
        "from scipy.stats import bernoulli\n",
        "import seaborn as sns\n",
        "\n",
        "data_bern = bernoulli.rvs(size=1000,p=0.6) #generates an array containing specified number of random values drawn from the given geometric distribution.\n",
        "ax= sns.distplot(data_bern,\n",
        "                 kde=False,\n",
        "                 color=\"skyblue\",\n",
        "                 hist_kws={\"linewidth\": 1,'alpha':1})\n",
        "ax.set(xlabel='Bernoulli Distribution', ylabel='Frequency')\n"
      ],
      "metadata": {
        "id": "04JAJFG7k1R3"
      },
      "execution_count": null,
      "outputs": []
    },
    {
      "cell_type": "markdown",
      "source": [
        "Bionomial distribution chart"
      ],
      "metadata": {
        "id": "XZVnNwHt-dsR"
      }
    },
    {
      "cell_type": "code",
      "source": [
        "# Book Figure 6-14\n",
        "\n",
        "from scipy.stats import binom\n",
        "import seaborn as sns\n",
        "\n",
        "data_binom = binom.rvs(n=10,size=100,p=0.9)\n",
        "ax= sns.distplot(data_binom,\n",
        "                 kde=False,\n",
        "                 color=\"green\",\n",
        "                 hist_kws={\"linewidth\": 1,'alpha':1})\n",
        "ax.set(xlabel='Binomial Distribution', ylabel='Frequency')\n"
      ],
      "metadata": {
        "id": "hp8Wly8C-hgb"
      },
      "execution_count": null,
      "outputs": []
    },
    {
      "cell_type": "markdown",
      "source": [
        "Bionomial distribution probability for a different number of failures"
      ],
      "metadata": {
        "id": "oqqnwxLeCzdh"
      }
    },
    {
      "cell_type": "code",
      "source": [
        "# Book Figure 6-16\n",
        "\n",
        "from scipy.stats import binom\n",
        "import matplotlib.pyplot as plt\n",
        "\n",
        "n = 10\n",
        "p = 0.3\n",
        "r_values = list(range(n + 1))\n",
        "mean, var = binom.stats(n, p)\n",
        "dist = [binom.pmf(r, n, p) for r in r_values ]\n",
        "distc = [binom.cdf(r, n, p) for r in r_values ]\n",
        "stat = [binom.stats(n,p, loc=0, moments='mvsk')]\n",
        "for i in range(n + 1):\n",
        "    print(str(r_values[i]) + \"\\t\" + str(dist[i]))\n",
        "print(\"Mean, Variance, Skewness, Kurtosis:\",stat)\n",
        "plt.bar(r_values, dist)\n",
        "plt.bar(r_values, distc, alpha=.5)\n",
        "plt.xlabel('Number of failure')\n",
        "plt.ylabel('Probability')\n",
        "plt.show()"
      ],
      "metadata": {
        "id": "Deb95Tp2C0bQ"
      },
      "execution_count": null,
      "outputs": []
    },
    {
      "cell_type": "markdown",
      "source": [
        "Geometric distribution"
      ],
      "metadata": {
        "id": "MkdXUOzxPRt-"
      }
    },
    {
      "cell_type": "code",
      "source": [
        "# Book Figure 6-19\n",
        "\n",
        "from scipy.stats import geom\n",
        "import numpy as np\n",
        "\n",
        "x= np.arange(0,10+1)\n",
        "p=0.3\n",
        "dist=geom(p)\n",
        "ax=sns.barplot(x=x,y=dist.pmf(x))\n",
        "ax=sns.barplot(x=x,y=dist.cdf(x), alpha=.5)\n",
        "plt.ylabel(\"Probability\", fontsize=\"14\")\n",
        "plt.xlabel(\"Year\", fontsize=\"14\")\n"
      ],
      "metadata": {
        "id": "DZzJ5cpFPVG0"
      },
      "execution_count": null,
      "outputs": []
    },
    {
      "cell_type": "markdown",
      "source": [
        "Geometric distribution for accident probability"
      ],
      "metadata": {
        "id": "YZGJ4q5CTHsM"
      }
    },
    {
      "cell_type": "code",
      "source": [
        "# Book Figure 6-21\n",
        "\n",
        "from scipy.stats import geom\n",
        "import numpy as np\n",
        "\n",
        "X = [1, 2, 3, 4, 5, 6, 7, 8, 9, 10]\n",
        "p = 0.3\n",
        "geom_pd = geom.pmf(X, p)\n",
        "fig, ax = plt.subplots(1, 1, figsize=(8, 6))\n",
        "ax.plot(X, geom_pd, 'bo', ms=8, label='geom pmf')\n",
        "plt.ylabel(\"Probability\", fontsize=\"14\")\n",
        "plt.xlabel(\"Year\", fontsize=\"14\")\n",
        "ax.vlines(X, 0, geom_pd, colors='b', lw=5, alpha=0.5)\n"
      ],
      "metadata": {
        "id": "n5G-AL-jTVv2"
      },
      "execution_count": null,
      "outputs": []
    },
    {
      "cell_type": "markdown",
      "source": [
        "Geometric distribution simulation"
      ],
      "metadata": {
        "id": "8FrbqqewWklf"
      }
    },
    {
      "cell_type": "code",
      "source": [
        "# Book Figure 6-23\n",
        "\n",
        "from scipy.stats import geom\n",
        "import seaborn as sns\n",
        "\n",
        "data_geom = geom.rvs(p=.03,size=1000, random_state=13)\n",
        "ax= sns.distplot(data_geom,\n",
        "                 kde=False,\n",
        "                 color=\"skyblue\",\n",
        "                 hist_kws={\"linewidth\": 1,'alpha':1})\n",
        "ax.set(xlabel='Geometrical Distribution', ylabel='Frequency')"
      ],
      "metadata": {
        "id": "HkH6uqxAWpxV"
      },
      "execution_count": null,
      "outputs": []
    },
    {
      "cell_type": "markdown",
      "source": [
        "Poisson distribution (toll booth)"
      ],
      "metadata": {
        "id": "fRCsjMq2Z5yO"
      }
    },
    {
      "cell_type": "code",
      "source": [
        "# Book Figure 6-25\n",
        "\n",
        "from scipy.stats import poisson\n",
        "\n",
        "data_poisson = poisson.rvs(mu=3,size=100)\n",
        "ax= sns.distplot(data_poisson,\n",
        "                 kde=False,\n",
        "                 color=\"skyblue\",\n",
        "                 hist_kws={\"linewidth\": 5,'alpha':1})\n",
        "ax.set(xlabel='Poisson Distribution', ylabel='Frequency')"
      ],
      "metadata": {
        "id": "Ec0GxgOyZ9pj"
      },
      "execution_count": null,
      "outputs": []
    },
    {
      "cell_type": "markdown",
      "source": [
        "Poisson distribution (water pipe network)"
      ],
      "metadata": {
        "id": "2adjL_bqceWC"
      }
    },
    {
      "cell_type": "code",
      "source": [
        "# Book Figure 6-27\n",
        "\n",
        "from scipy.stats import poisson\n",
        "\n",
        "X = [0, 1, 2, 3, 4, 5,6,7,8,9,10]\n",
        "lmbda = 2\n",
        "poisson_pd = poisson.pmf(X, lmbda)\n",
        "fig, ax = plt.subplots(1, 1, figsize=(8, 6))\n",
        "ax.plot(X, poisson_pd, 'bo', ms=8, label='poisson pmf')\n",
        "ax.vlines(X, 0, poisson_pd, colors='b', lw=5, alpha=0.5)\n",
        "ax.set(xlabel='Number of cracks', ylabel='Probability')"
      ],
      "metadata": {
        "id": "bLvDyBOKcvuT"
      },
      "execution_count": null,
      "outputs": []
    },
    {
      "cell_type": "markdown",
      "source": [
        "Poisson distribution (bus station)"
      ],
      "metadata": {
        "id": "JeRhmPwqgYeC"
      }
    },
    {
      "cell_type": "code",
      "source": [
        "# Book Figure 6-29\n",
        "\n",
        "from scipy.stats import poisson\n",
        "\n",
        "X = [0, 1, 2, 3, 4, 5, 6, 7, 8, 9, 10]\n",
        "lmbda = 8\n",
        "# Probability values\n",
        "poisson_pd = poisson.pmf(X, lmbda)\n",
        "# Plot the probability distribution\n",
        "fig, ax = plt.subplots(1, 1, figsize=(8, 6))\n",
        "ax.plot(X, poisson_pd, 'bo', ms=8, label='poisson pmf')\n",
        "plt.ylabel(\"Probability\", fontsize=\"14\")\n",
        "plt.xlabel(\"Number of Buses\", fontsize=\"14\")\n",
        "ax.vlines(X, 0, poisson_pd, colors='b', lw=5, alpha=0.5)\n"
      ],
      "metadata": {
        "id": "CaBFy1WUgfpy"
      },
      "execution_count": null,
      "outputs": []
    },
    {
      "cell_type": "markdown",
      "source": [
        "Similarity of poisson and normal distrbutions"
      ],
      "metadata": {
        "id": "AMo6sAO2idIi"
      }
    },
    {
      "cell_type": "code",
      "source": [
        "# Book Figure 6-31\n",
        "\n",
        "from numpy import random\n",
        "import seaborn as sns\n",
        "\n",
        "sns.distplot(random.poisson(lam=50, size=1000), hist=True, label='poisson')\n",
        "sns.distplot(random.normal(loc=50, scale=7, size=1000), hist=True, label='normal')\n",
        "plt.xlabel(\"Poisson vs normal distrbutions\")\n"
      ],
      "metadata": {
        "id": "8AbgowdOiiy7"
      },
      "execution_count": null,
      "outputs": []
    },
    {
      "cell_type": "markdown",
      "source": [
        "Continuous probability (uniform distribution)"
      ],
      "metadata": {
        "id": "yP-EY1O4wdMU"
      }
    },
    {
      "cell_type": "code",
      "source": [
        "# Book Figure 6-34\n",
        "\n",
        "from scipy.stats import uniform\n",
        "import matplotlib.pyplot as plt\n",
        "import numpy as np\n",
        "\n",
        "x = np.arange(0, 6, 0.1)\n",
        "y = uniform.pdf(x,2,2)\n",
        "plt.plot(x, y)\n",
        "plt.xlabel('Airoplane travel time (hr)')\n",
        "plt.ylabel('Probability')\n",
        "plt.show()\n",
        "y = uniform.cdf(x, 2, 2)\n",
        "plt.plot(x, y, color='red')\n",
        "plt.xlabel('Airoplane travel time (hr)')\n",
        "plt.ylabel('Probability')\n",
        "plt.show()\n"
      ],
      "metadata": {
        "id": "820tkD8ywk9D"
      },
      "execution_count": null,
      "outputs": []
    },
    {
      "cell_type": "markdown",
      "source": [
        "Random number generation"
      ],
      "metadata": {
        "id": "HzUNLsxzyeZ7"
      }
    },
    {
      "cell_type": "code",
      "source": [
        "# Book Figure 6-36\n",
        "\n",
        "from scipy.stats import uniform\n",
        "import matplotlib.pyplot as plt\n",
        "import numpy as np\n",
        "\n",
        "np.random.seed(10) #fixing the seed for reproducibility\n",
        "y = uniform.rvs(0, 1, 10000)\n",
        "bin = np.arange(-.5,1.5,0.01)\n",
        "plt.hist(y, bins=bin, edgecolor='blue')\n",
        "plt.xlabel('Unifrom Distribution')\n",
        "plt.ylabel('Frequency')\n",
        "plt.show()\n",
        "print(\"mean, variance, Skewness, kurtosis: \", uniform.stats(loc=0,scale=1, moments='mvsk'))\n"
      ],
      "metadata": {
        "id": "VvdphWM4ymbx"
      },
      "execution_count": null,
      "outputs": []
    },
    {
      "cell_type": "markdown",
      "source": [
        "Normal distribution"
      ],
      "metadata": {
        "id": "RHFEG1ni9BfL"
      }
    },
    {
      "cell_type": "code",
      "source": [
        "# Book Figure 6-38\n",
        "\n",
        "import numpy as np\n",
        "import matplotlib.pyplot as plt\n",
        "from scipy.stats import norm\n",
        "\n",
        "x = np.arange(-15, 15, 0.1)\n",
        "y = norm.pdf(x, 4, 2)\n",
        "z = norm.pdf(x, 4, 1)\n",
        "t = norm.pdf(x, 0, 2)\n",
        "m = norm.pdf(x, 0, 1)\n",
        "plt.plot(x, y)\n",
        "plt.plot(x, z)\n",
        "plt.plot(x, t)\n",
        "plt.plot(x, m)\n",
        "plt.xlabel('Normal Distribution')\n",
        "plt.ylabel('Probability')\n",
        "plt.show()"
      ],
      "metadata": {
        "id": "9Un60B1e9E-R"
      },
      "execution_count": null,
      "outputs": []
    },
    {
      "cell_type": "markdown",
      "source": [
        "Normal distribution simulation"
      ],
      "metadata": {
        "id": "QG3QZDi1RZMK"
      }
    },
    {
      "cell_type": "code",
      "source": [
        "# Book Figure 6-40\n",
        "\n",
        "import numpy as np\n",
        "import matplotlib.pyplot as plt\n",
        "from scipy.stats import norm\n",
        "\n",
        "np.random.seed(10)\n",
        "y = norm.rvs(0, 1, 10000)\n",
        "bin = np.arange(-4,4,0.1)\n",
        "plt.hist(y, bins=bin, edgecolor='blue')\n",
        "plt.xlabel('Standard Normal Distribution')\n",
        "plt.ylabel('Frequency')\n",
        "plt.show()\n",
        "print(\"mean, variance, Skewness, kurtosis:\",norm.stats(loc=0,scale=1, moments='mvsk'))\n"
      ],
      "metadata": {
        "id": "Wzzw6DDPRczL"
      },
      "execution_count": null,
      "outputs": []
    },
    {
      "cell_type": "markdown",
      "source": [
        "Normal probability calculation"
      ],
      "metadata": {
        "id": "0T80IbGXVFdJ"
      }
    },
    {
      "cell_type": "code",
      "source": [
        "# Book Figure 6-41\n",
        "\n",
        "import scipy.stats as st\n",
        "from scipy.stats import norm\n",
        "\n",
        "x = st.norm.cdf(75,loc=80,scale=10)\n",
        "print(\"the probability of cars running with at least 75 kmh:\",x)\n",
        "y = norm.ppf(.85, 80, 10)\n",
        "print(\" 85% percentile:\", y)\n"
      ],
      "metadata": {
        "id": "Syx7hUt8VNgM"
      },
      "execution_count": null,
      "outputs": []
    },
    {
      "cell_type": "markdown",
      "source": [
        "t distribution"
      ],
      "metadata": {
        "id": "sKMsy_fQp8ul"
      }
    },
    {
      "cell_type": "code",
      "source": [
        "# Book Figure 6-44\n",
        "\n",
        "from scipy.stats import norm, t\n",
        "import matplotlib.pyplot as plt\n",
        "import numpy as np\n",
        "\n",
        "x = np.arange(-4, 4, 0.1)\n",
        "y = t.pdf(x, 1)\n",
        "z = norm.pdf(x, 0, 1)\n",
        "plt.plot(x, y)\n",
        "plt.plot(x, z)\n",
        "plt.xlabel('Standard Normal vs t Distribution')\n",
        "plt.ylabel('Probability')\n",
        "plt.show()\n"
      ],
      "metadata": {
        "id": "5fyL2ca6p_ck"
      },
      "execution_count": null,
      "outputs": []
    },
    {
      "cell_type": "markdown",
      "source": [
        "t distribution simulation and probability calculation"
      ],
      "metadata": {
        "id": "qt_0LH-fwFSy"
      }
    },
    {
      "cell_type": "code",
      "source": [
        "# Book Figure 6-46\n",
        "\n",
        "from scipy.stats import t\n",
        "import matplotlib.pyplot as plt\n",
        "import numpy as np\n",
        "import scipy.stats as st\n",
        "\n",
        "\n",
        "np.random.seed(10)\n",
        "y = t.rvs(10, 0, 1, 10000)\n",
        "bin = np.arange(-4,4,0.1)\n",
        "plt.hist(y, bins=bin, edgecolor='blue')\n",
        "plt.xlabel('t Distribution')\n",
        "plt.ylabel('Frequency')\n",
        "plt.show()\n",
        "\n",
        "print(\" Probability of getting at most 35 MPa:\" , st.t.cdf(35,10, loc=30,scale=5))\n",
        "print(\"mean, variance, Skewness, kurtosis: \", t.stats(10, loc=30,scale=5, moments='mvsk'))\n"
      ],
      "metadata": {
        "id": "c1XYhU_BwKe9"
      },
      "execution_count": null,
      "outputs": []
    },
    {
      "cell_type": "markdown",
      "source": [
        "Log-normal distribution"
      ],
      "metadata": {
        "id": "Z3OWdMBF11KM"
      }
    },
    {
      "cell_type": "code",
      "source": [
        "# Book Figure 6-49\n",
        "\n",
        "from scipy.stats import lognorm\n",
        "import matplotlib.pyplot as plt\n",
        "import numpy as np\n",
        "\n",
        "x = np.arange(-1, 10, 0.1)\n",
        "y = lognorm.pdf(x, 1, 0, 2)\n",
        "plt.plot(x, y)\n",
        "plt.xlabel('Log-Normal Density Distribution')\n",
        "plt.ylabel('Probability')\n",
        "plt.show()\n",
        "x = np.arange(-1, 10, 0.1)\n",
        "y = lognorm.cdf(x, 1, 0, 2)\n",
        "plt.xlabel('Log-Normal Cumulative Distribution')\n",
        "plt.ylabel('Probability')\n",
        "plt.plot(x, y, color='red')\n",
        "plt.show()\n"
      ],
      "metadata": {
        "id": "EmBWgr6T14FE"
      },
      "execution_count": null,
      "outputs": []
    },
    {
      "cell_type": "markdown",
      "source": [
        "Log-normal simulation and probability calculation"
      ],
      "metadata": {
        "id": "EgztqOf44OcF"
      }
    },
    {
      "cell_type": "code",
      "source": [
        "# Book Figure 6-51\n",
        "\n",
        "from scipy.stats import lognorm\n",
        "import matplotlib.pyplot as plt\n",
        "import numpy as np\n",
        "import scipy.stats as st\n",
        "\n",
        "\n",
        "np.random.seed(10)\n",
        "y = lognorm.rvs(1,0, 1, 10000)\n",
        "bin = np.arange(-1,10,0.1)\n",
        "plt.hist(y, bins=bin, edgecolor='blue')\n",
        "plt.xlabel('Log-Normal Distribution')\n",
        "plt.ylabel('Frequency')\n",
        "plt.show()\n",
        "\n",
        "print(\"Probability of walking at most 1 km:\", st.lognorm.cdf(1,1,loc=0,scale=1))\n",
        "print(\"mean, variance, Skewness, kurtosis: \", lognorm.stats(1,loc=0,scale=1, moments='mvsk'))\n"
      ],
      "metadata": {
        "id": "rOPP0Qpt4atP"
      },
      "execution_count": null,
      "outputs": []
    },
    {
      "cell_type": "markdown",
      "source": [
        "Exponential distribution"
      ],
      "metadata": {
        "id": "D9xIi-FqhrQt"
      }
    },
    {
      "cell_type": "code",
      "source": [
        "# Book Figure 6-54\n",
        "\n",
        "from scipy.stats import expon\n",
        "import matplotlib.pyplot as plt\n",
        "import numpy as np\n",
        "\n",
        "x = np.arange(-1, 10, 0.1)\n",
        "y = expon.pdf(x, 0, 2)\n",
        "plt.plot(x, y)\n",
        "plt.xlabel('Exponential Distribution')\n",
        "plt.ylabel('Probability')\n",
        "plt.show()\n",
        "\n",
        "x = np.arange(-1, 10, 0.1)\n",
        "y = expon.cdf(x, 0, 5)\n",
        "plt.plot(x, y, color='red')\n",
        "plt.xlabel('Exponential Distribution')\n",
        "plt.ylabel('Probability')\n",
        "plt.show()\n"
      ],
      "metadata": {
        "id": "KA08oFDjhubu"
      },
      "execution_count": null,
      "outputs": []
    },
    {
      "cell_type": "markdown",
      "source": [
        "Exponential distribution simulation and probability calculation"
      ],
      "metadata": {
        "id": "5HHYUQz5ktRY"
      }
    },
    {
      "cell_type": "code",
      "source": [
        "# Book Figure 6-56\n",
        "\n",
        "from scipy.stats import expon\n",
        "import matplotlib.pyplot as plt\n",
        "import numpy as np\n",
        "import scipy.stats as st\n",
        "\n",
        "np.random.seed(10)\n",
        "y = expon.rvs(1, 2, 10000)\n",
        "bin = np.arange(-1,10,0.1)\n",
        "plt.hist(y, bins=bin, edgecolor='blue')\n",
        "plt.xlabel('Exponential Distribution')\n",
        "plt.ylabel('Frequency')\n",
        "plt.show()\n",
        "print(\"cumulative probability less than 2:\", st.expon.cdf(2,loc=1,scale=2))\n",
        "print(\"mean, variance, Skewness, kurtosis:\",expon.stats(loc=1,scale=2, moments='mvsk'))"
      ],
      "metadata": {
        "id": "omH9oWOYk0Bg"
      },
      "execution_count": null,
      "outputs": []
    },
    {
      "cell_type": "markdown",
      "source": [
        "Chi-square distribution"
      ],
      "metadata": {
        "id": "_FGR5QUrymdz"
      }
    },
    {
      "cell_type": "code",
      "source": [
        "# Book Figure 6-56\n",
        "\n",
        "from scipy.stats import chi2\n",
        "import matplotlib.pyplot as plt\n",
        "import numpy as np\n",
        "\n",
        "x = np.arange(-1, 60, 0.1)\n",
        "y = chi2.pdf(x, 2, 0, 1)\n",
        "z = chi2.pdf(x, 5, 0, 1)\n",
        "t = chi2.pdf(x, 30, 0, 1)\n",
        "plt.plot(x, y)\n",
        "plt.plot(x, z)\n",
        "plt.plot(x, t)\n",
        "plt.xlabel('Chi-square Distribution')\n",
        "plt.ylabel('Probability')\n",
        "plt.show()\n",
        "\n",
        "x = np.arange(-1, 10, 0.1)\n",
        "y = chi.cdf(x, 2, 0, 1)\n",
        "plt.xlabel('Chi-square Cumulative Distribution')\n",
        "plt.ylabel('Probability')\n",
        "plt.plot(x, y, color='red')\n",
        "plt.show()"
      ],
      "metadata": {
        "id": "A7W0Qkpqyq04"
      },
      "execution_count": null,
      "outputs": []
    },
    {
      "cell_type": "markdown",
      "source": [
        "Chi-square distribution simulation and probability calculation"
      ],
      "metadata": {
        "id": "D5AQ5GX29KjI"
      }
    },
    {
      "cell_type": "code",
      "source": [
        "# Book Figure 6-60\n",
        "\n",
        "from scipy.stats import chi2\n",
        "import matplotlib.pyplot as plt\n",
        "import numpy as np\n",
        "import scipy.stats as st\n",
        "\n",
        "np.random.seed(10)\n",
        "y = chi2.rvs(2,2, 1, 10000)\n",
        "bin = np.arange(-1,10,0.1)\n",
        "plt.hist(y, bins=bin, edgecolor='blue')\n",
        "plt.xlabel('Chi-square Distribution')\n",
        "plt.ylabel('Frequency')\n",
        "plt.show()\n",
        "print(\"Cumulative Probability less than 3:\",st.chi2.cdf(3,2,loc=2,scale=1))\n",
        "print(\"mean, variance, Skewness, kurtosis:\",chi2.stats(2,loc=2,scale=1, moments='mvsk'))\n"
      ],
      "metadata": {
        "id": "rbkue2M99LfI"
      },
      "execution_count": null,
      "outputs": []
    }
  ]
}