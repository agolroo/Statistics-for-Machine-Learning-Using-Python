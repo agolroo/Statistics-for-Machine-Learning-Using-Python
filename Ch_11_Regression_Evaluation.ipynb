{
  "nbformat": 4,
  "nbformat_minor": 0,
  "metadata": {
    "colab": {
      "provenance": []
    },
    "kernelspec": {
      "name": "python3",
      "display_name": "Python 3"
    },
    "language_info": {
      "name": "python"
    }
  },
  "cells": [
    {
      "cell_type": "markdown",
      "source": [
        "Model development and residual calculation"
      ],
      "metadata": {
        "id": "OCHAJBR1GMv7"
      }
    },
    {
      "cell_type": "code",
      "execution_count": null,
      "metadata": {
        "id": "HvT404n-EUpA"
      },
      "outputs": [],
      "source": [
        "# Book Figure 11-1\n",
        "\n",
        "import pandas as pd\n",
        "from sklearn.model_selection import train_test_split\n",
        "from sklearn.linear_model import LinearRegression\n",
        "\n",
        "!wget -O FuelConsumption.csv https://cf-courses-data.s3.us.cloud-object-storage.appdomain.cloud/IBMDeveloperSkillsNetwork-ML0101EN-SkillsNetwork/labs/Module%202/data/FuelConsumptionCo2.csv\n",
        "df = pd.read_csv(\"FuelConsumption.csv\")\n",
        "X = df[['ENGINESIZE','CYLINDERS','FUELCONSUMPTION_COMB_MPG']]\n",
        "y = df[['CO2EMISSIONS']]\n",
        "X_train,X_test,y_train,y_test = train_test_split(X,y,test_size=0.2,random_state=4)\n",
        "model=LinearRegression()\n",
        "model.fit(X_train,y_train)\n",
        "LinearRegression()\n",
        "y_pred=model.predict(X_test)\n",
        "residual =y_test-y_pred"
      ]
    },
    {
      "cell_type": "markdown",
      "source": [
        "Variable correlation"
      ],
      "metadata": {
        "id": "JTTn_omvGg-Q"
      }
    },
    {
      "cell_type": "code",
      "source": [
        "# Book Figure 11-5\n",
        "\n",
        "import matplotlib.pyplot as plot\n",
        "df.plot.scatter(x='ENGINESIZE', y='CO2EMISSIONS')\n",
        "df.plot.scatter(x='CYLINDERS', y='CO2EMISSIONS')\n",
        "df.plot.scatter(x='FUELCONSUMPTION_COMB_MPG', y='CO2EMISSIONS')"
      ],
      "metadata": {
        "id": "Xv0rys88GoIH"
      },
      "execution_count": null,
      "outputs": []
    },
    {
      "cell_type": "markdown",
      "source": [
        "Multi-colinearity"
      ],
      "metadata": {
        "id": "R78sckm_KrEa"
      }
    },
    {
      "cell_type": "code",
      "source": [
        "# Book Figure 11-7\n",
        "\n",
        "from statsmodels.stats.outliers_influence import variance_inflation_factor\n",
        "import seaborn as sns\n",
        "\n",
        "vif=[]\n",
        "for i in range (X_train.shape[1]):\n",
        "  vif.append(variance_inflation_factor(X_train, i))\n",
        "pd.DataFrame({'vif':vif}, index=X.columns[0:3]).T\n",
        "print('VIF of [ENGINESIZE,CYLINDERS,FUELCONSUMPTION_COMB_MPG]:', vif)\n",
        "sns.heatmap(X.iloc[:,0:3].corr(),annot=True)"
      ],
      "metadata": {
        "id": "C6lbDlByKvBR"
      },
      "execution_count": null,
      "outputs": []
    },
    {
      "cell_type": "markdown",
      "source": [
        "Noramlity of residuals"
      ],
      "metadata": {
        "id": "qbQ0IxZAPTLP"
      }
    },
    {
      "cell_type": "code",
      "source": [
        "# Book Figure 11-8\n",
        "\n",
        "import seaborn as sns\n",
        "from scipy import stats\n",
        "import statsmodels.api as sm\n",
        "from scipy.stats import shapiro, kstest\n",
        "import matplotlib.pyplot as plot\n",
        "\n",
        "p = sns.distplot(residual,kde=True)\n",
        "plot.xlabel('X')\n",
        "sm.qqplot(df['CO2EMISSIONS'], line='s')\n",
        "shapiro(residual)\n",
        "# kstest(residual, \"norm\") # KS test good for sample number>2000"
      ],
      "metadata": {
        "id": "kstkpMPqPZVM"
      },
      "execution_count": null,
      "outputs": []
    },
    {
      "cell_type": "markdown",
      "source": [
        "Heteroscedasticity"
      ],
      "metadata": {
        "id": "0g6GZFsEXBfP"
      }
    },
    {
      "cell_type": "code",
      "source": [
        "# Book Figure 11-13\n",
        "\n",
        "import statsmodels.stats.api as sms\n",
        "from statsmodels.compat import lzip\n",
        "import matplotlib.pyplot as plot\n",
        "import statsmodels.api as sm\n",
        "\n",
        "plot.scatter(y_pred,residual)\n",
        "plot.xlabel('y_pred')\n",
        "plot.ylabel('Residual')\n",
        "name = ['F statistic', 'p-value']\n",
        "test = sms.het_goldfeldquandt(residual, X_test)\n",
        "print ('Goldfeld-Quandt:', lzip(name, test))\n",
        "X = sm.add_constant(X)\n",
        "model = sm.OLS(y, X)\n",
        "results = model.fit()\n",
        "white_test = sm.stats.diagnostic.het_white(results.resid, results.model.exog)\n",
        "print(\"White test statistic:\", white_test[0])\n",
        "print(\"White test p-value:\", white_test[1])"
      ],
      "metadata": {
        "id": "xHgKa055XFCF"
      },
      "execution_count": null,
      "outputs": []
    },
    {
      "cell_type": "markdown",
      "source": [
        "Autocorrelation"
      ],
      "metadata": {
        "id": "IGn7isuoaMYV"
      }
    },
    {
      "cell_type": "code",
      "source": [
        "# Book Figure 11-14\n",
        "\n",
        "import statsmodels.api as sm\n",
        "from statsmodels.stats.stattools import durbin_watson\n",
        "import statsmodels.api as sm\n",
        "import matplotlib.pyplot as plot\n",
        "\n",
        "plot.figure(figsize=(10,5))\n",
        "p = sns.lineplot(residual,marker='o',color='blue')\n",
        "plot.xlabel('y_pred/predicted values')\n",
        "plot.ylabel('Residuals')\n",
        "print('ljungbox stat:', sm.stats.acorr_ljungbox(residual, lags=[40], return_df=True))\n",
        "dw_statistic = durbin_watson(residual)\n",
        "print('Durbin-Watson stat:',dw_statistic)\n",
        "if dw_statistic < 1.5:\n",
        "    print(\"The residuals are negatively correlated.\")\n",
        "elif dw_statistic > 2.5:\n",
        "    print(\"The residuals are positively correlated.\")\n",
        "else:\n",
        "    print(\"The residuals are not correlated.\")\n",
        "sm.graphics.tsa.plot_acf(residual, lags=40)\n",
        "plot.xlabel('Lag')\n",
        "plot.ylabel('Correlation')\n",
        "plot.show()\n",
        "sm.graphics.tsa.plot_pacf(residual, lags=40)\n",
        "plot.xlabel('Lag')\n",
        "plot.ylabel('Correlation')\n",
        "plot.show()"
      ],
      "metadata": {
        "id": "ehDpI9sGaPMu"
      },
      "execution_count": null,
      "outputs": []
    }
  ]
}