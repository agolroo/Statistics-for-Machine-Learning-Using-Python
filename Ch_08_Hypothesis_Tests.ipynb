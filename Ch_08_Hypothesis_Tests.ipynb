{
  "nbformat": 4,
  "nbformat_minor": 0,
  "metadata": {
    "colab": {
      "provenance": []
    },
    "kernelspec": {
      "name": "python3",
      "display_name": "Python 3"
    },
    "language_info": {
      "name": "python"
    }
  },
  "cells": [
    {
      "cell_type": "markdown",
      "source": [
        "One sample z t test - Simulation"
      ],
      "metadata": {
        "id": "kKUCqFP_tWT-"
      }
    },
    {
      "cell_type": "code",
      "execution_count": 10,
      "metadata": {
        "id": "c2VFBDCGRCdr",
        "colab": {
          "base_uri": "https://localhost:8080/"
        },
        "outputId": "72485389-23a2-4ad0-f725-bbc3fdb71dca"
      },
      "outputs": [
        {
          "output_type": "stream",
          "name": "stdout",
          "text": [
            "First Problem:\n",
            "Z_confidence_interval: (44.080072030919894, 51.919927969080106)\n",
            "Z_calculated= -2.0 Z_critical= 1.959963984540054 pValue= 0.022750131948179195\n",
            "Second Problem:\n",
            "t_confidence_interval: (41.80830431511594, 54.19169568488406)\n",
            "t_calculated= -1.3333333333333333 t_critical= 2.0638985616280205 pValue= 0.0974703374061873\n"
          ]
        }
      ],
      "source": [
        "#Book Figure 8-2\n",
        "\n",
        "import numpy as np\n",
        "import pandas as pd\n",
        "import scipy\n",
        "from scipy import stats\n",
        "\n",
        "mu=52\n",
        "x_=48\n",
        "sig=10\n",
        "se=15\n",
        "n=25\n",
        "\n",
        "print ('First Problem:')\n",
        "#Calculating the confidence interval\n",
        "print(\"Z_confidence_interval:\", stats.norm.interval(0.95,loc = x_, scale= sig/np.sqrt(n)))\n",
        "#Calculating the Z value to complete the z testing\n",
        "z_stat=(x_-mu)/(sig/np.sqrt(n))\n",
        "#calculating the p-value\n",
        "p_val=stats.norm.cdf(z_stat)\n",
        "Z_crt=stats.norm.ppf(0.975)\n",
        "print('Z_calculated=',z_stat, 'Z_critical=', Z_crt,\"pValue=\",p_val,)\n",
        "\n",
        "print ('Second Problem:')\n",
        "print(\"t_confidence_interval:\", stats.t.interval(0.95,df=24,loc = x_, scale= se/np.sqrt(n)))\n",
        "t_stat=(x_-mu)/(se/np.sqrt(n))\n",
        "pt_val=stats.t.cdf(t_stat,df=24)\n",
        "t_crt=stats.t.ppf(0.975,df=24)\n",
        "print('t_calculated=',t_stat, 't_critical=', t_crt,\"pValue=\",pt_val)\n"
      ]
    },
    {
      "cell_type": "markdown",
      "source": [
        "One sample z t test - Real Example"
      ],
      "metadata": {
        "id": "KA9L2GYgmhHL"
      }
    },
    {
      "cell_type": "code",
      "source": [
        "import pandas as pd\n",
        "from scipy import stats\n",
        "import numpy as np\n",
        "\n",
        "df=pd.read_csv('/content/drive/MyDrive/Colab Notebooks/CSV_Files/08_Hypothesis_Testing.csv')\n",
        "\n",
        "mu=20\n",
        "x_=np.mean(df.CO2_Prd)\n",
        "se=np.std(df.CO2_Prd)\n",
        "n=(df.CO2_Prd).count()\n",
        "\n",
        "#Calculating the confidence interval\n",
        "print(\"Z_confidence_interval:\", stats.norm.interval(0.95,loc = x_, scale= sig/np.sqrt(n)))\n",
        "#Calculating the Z value to complete the z testing\n",
        "z_stat=(x_-mu)/(sig/np.sqrt(n))\n",
        "#calculating the p-value\n",
        "p_val=stats.norm.cdf(z_stat)\n",
        "Z_crt=stats.norm.ppf(0.975)\n",
        "print('Z_calculated=',z_stat, 'Z_critical=', Z_crt,\"pValue=\",p_val,)"
      ],
      "metadata": {
        "id": "w3uWUrYsoMdu",
        "colab": {
          "base_uri": "https://localhost:8080/"
        },
        "outputId": "722016a0-56d3-4d73-deae-0f7e6ef7b115"
      },
      "execution_count": 13,
      "outputs": [
        {
          "output_type": "stream",
          "name": "stdout",
          "text": [
            "Z_confidence_interval: (17.254945045899017, 24.411721620767647)\n",
            "Z_calculated= 0.45643546458763773 Z_critical= 1.959963984540054 pValue= 0.6759615659304267\n"
          ]
        }
      ]
    },
    {
      "cell_type": "code",
      "source": [
        "from google.colab import drive\n",
        "drive.mount('/content/drive')"
      ],
      "metadata": {
        "colab": {
          "base_uri": "https://localhost:8080/"
        },
        "id": "SjN7U_OMnkyk",
        "outputId": "46de3c8e-86c2-4e1d-e3e5-6d4b2c4bb901"
      },
      "execution_count": 1,
      "outputs": [
        {
          "output_type": "stream",
          "name": "stdout",
          "text": [
            "Mounted at /content/drive\n"
          ]
        }
      ]
    },
    {
      "cell_type": "markdown",
      "source": [
        "Type I and II errors"
      ],
      "metadata": {
        "id": "VjYECvqw2m6n"
      }
    },
    {
      "cell_type": "code",
      "source": [
        "#Book Figure 8-4\n",
        "\n",
        "from scipy import stats\n",
        "\n",
        "lower_quantile = stats.norm.ppf(0.025)  # Lower cutoff value\n",
        "upper_quantile = stats.norm.ppf(0.975)  # Upper cutoff value\n",
        "\n",
        "# Area under alternative, to the left the lower cutoff value\n",
        "low = stats.norm.cdf(lower_quantile,\n",
        "                     loc=3,\n",
        "                     scale=2)\n",
        "\n",
        "# Area under alternative, to the left the upper cutoff value\n",
        "high = stats.norm.cdf(upper_quantile,\n",
        "                      loc=3,\n",
        "                      scale=2)\n",
        "\n",
        "# Area under the alternative, between the cutoffs (Type II error)\n",
        "print(\"Type II error:\", high-low)\n"
      ],
      "metadata": {
        "id": "ox13YQg12r4Z",
        "colab": {
          "base_uri": "https://localhost:8080/"
        },
        "outputId": "1c886ef3-e5a9-478a-f529-98a9b4035ceb"
      },
      "execution_count": null,
      "outputs": [
        {
          "output_type": "stream",
          "name": "stdout",
          "text": [
            "Type II error: 0.294956061112323\n"
          ]
        }
      ]
    },
    {
      "cell_type": "markdown",
      "source": [
        "Two sample paired unpaired tests"
      ],
      "metadata": {
        "id": "5ReLheMOvOeS"
      }
    },
    {
      "cell_type": "code",
      "source": [
        "#Book Figure 8-6\n",
        "\n",
        "import scipy.stats as stats\n",
        "from scipy.stats import f_oneway\n",
        "\n",
        "#Independent test:\n",
        "np.random.seed(12)\n",
        "Tehran_Acc = stats.poisson.rvs(loc=18, mu=30, size=30)\n",
        "Ahwaz_Acc = stats.poisson.rvs(loc=18, mu=28, size=30)\n",
        "print('Tehran vs Ahwaz:', stats.ttest_ind(a= Tehran_Acc,\n",
        "                b= Ahwaz_Acc,\n",
        "                equal_var=True))\n",
        "\n",
        "#dependent test:\n",
        "Ahwaz_Acc_Before = stats.poisson.rvs(loc=18, mu=30, size=30)\n",
        "Ahwaz_Acc_After = stats.poisson.rvs(loc=18, mu=26, size=30)\n",
        "print('Before after study in Ahwaz:', stats.ttest_rel(a = Ahwaz_Acc_Before,\n",
        "                b = Ahwaz_Acc_After))\n",
        "\n"
      ],
      "metadata": {
        "id": "BSnbTzWovWe5",
        "colab": {
          "base_uri": "https://localhost:8080/"
        },
        "outputId": "c09a745e-74d6-4b65-ad6d-bf1bd5f1b719"
      },
      "execution_count": 15,
      "outputs": [
        {
          "output_type": "stream",
          "name": "stdout",
          "text": [
            "Tehran vs Ahwaz: TtestResult(statistic=0.9588594958199337, pvalue=0.34160968392526714, df=58.0)\n",
            "Before after study in Ahwaz: TtestResult(statistic=4.398677627611938, pvalue=0.0001342986822369127, df=29)\n"
          ]
        }
      ]
    },
    {
      "cell_type": "code",
      "source": [
        "#Independent test:\n",
        "\n",
        "print('Validation', stats.ttest_ind(a = df.CO2_Prd,\n",
        "                b = df.CO2_Act))"
      ],
      "metadata": {
        "id": "tWIVPomysJpO",
        "colab": {
          "base_uri": "https://localhost:8080/"
        },
        "outputId": "f0d08bb7-239a-47fa-8487-f6ef7345a0a8"
      },
      "execution_count": 12,
      "outputs": [
        {
          "output_type": "stream",
          "name": "stdout",
          "text": [
            "Validation TtestResult(statistic=1.0906915337884717, pvalue=0.2799191422274637, df=58.0)\n"
          ]
        }
      ]
    },
    {
      "cell_type": "code",
      "source": [
        "#dependent test:\n",
        "print('1% allowance', stats.ttest_rel(a = df.BA_0,\n",
        "                b = df.BA_1))\n",
        "#dependent test:\n",
        "print('1% allowance', stats.ttest_rel(a = df.BA_1,\n",
        "                b = df.BA_2))\n",
        "\n"
      ],
      "metadata": {
        "id": "BPV0umf5s7x2",
        "colab": {
          "base_uri": "https://localhost:8080/"
        },
        "outputId": "eba3a5c1-35a2-47c1-97f4-418e5cfa0fc2"
      },
      "execution_count": 16,
      "outputs": [
        {
          "output_type": "stream",
          "name": "stdout",
          "text": [
            "1% allowance TtestResult(statistic=-1.956904634364457, pvalue=0.06004773786272465, df=29)\n",
            "1% allowance TtestResult(statistic=-0.7274071273601259, pvalue=0.472808684612936, df=29)\n",
            "Comparison among 0, 1 , 2 %: F_onewayResult(statistic=2.984214368702327, pvalue=0.055781942108506094)\n"
          ]
        }
      ]
    },
    {
      "cell_type": "markdown",
      "source": [
        "One Way ANOVA"
      ],
      "metadata": {
        "id": "-1o3Oqo8m80J"
      }
    },
    {
      "cell_type": "code",
      "source": [
        "#ANOVA test:\n",
        "Tehran_Acc = stats.poisson.rvs(loc=18, mu=30, size=30)\n",
        "Ahwaz_Acc = stats.poisson.rvs(loc=18, mu=28, size=30)\n",
        "Shiraz_Acc = stats.poisson.rvs(loc=18, mu=26, size=30)\n",
        "print('Comparison among Tehran, Ahwaz, and Shiraz:',f_oneway(Tehran_Acc, Ahwaz_Acc, Shiraz_Acc))"
      ],
      "metadata": {
        "id": "boFLGBrEnBWW"
      },
      "execution_count": null,
      "outputs": []
    },
    {
      "cell_type": "code",
      "source": [
        "print('Comparison among 0, 1 , 2 %:',f_oneway(df.BA_0, df.BA_1, df.BA_2))"
      ],
      "metadata": {
        "id": "ox9r-ZNbDCv_"
      },
      "execution_count": null,
      "outputs": []
    },
    {
      "cell_type": "markdown",
      "source": [
        "One Way ANOVA with repeated measures"
      ],
      "metadata": {
        "id": "6GSMt0inn1nw"
      }
    },
    {
      "cell_type": "code",
      "source": [
        "from statsmodels.stats.anova import AnovaRM\n",
        "import pandas as pd\n",
        "\n",
        "df1=pd.read_csv('/content/drive/MyDrive/Colab Notebooks/CSV_Files/08_Hypothesis_Testing_1.csv')\n",
        "\n",
        "print(AnovaRM(data=df1, depvar='ReTime',subject='Driver', within=['BA']).fit())"
      ],
      "metadata": {
        "id": "QgP82dSNn5IS",
        "colab": {
          "base_uri": "https://localhost:8080/"
        },
        "outputId": "5e00487a-b698-44eb-8d2d-b4f0598a78b1"
      },
      "execution_count": 7,
      "outputs": [
        {
          "output_type": "stream",
          "name": "stdout",
          "text": [
            "             Anova\n",
            "================================\n",
            "   F Value Num DF  Den DF Pr > F\n",
            "--------------------------------\n",
            "BA  4.3586 2.0000 38.0000 0.0198\n",
            "================================\n",
            "\n"
          ]
        }
      ]
    },
    {
      "cell_type": "markdown",
      "source": [
        "Tukey Test for paired comparison of more than two samples"
      ],
      "metadata": {
        "id": "54CAspGY9cyX"
      }
    },
    {
      "cell_type": "code",
      "source": [
        "#Book Figure 8-7\n",
        "\n",
        "from statsmodels.stats.multicomp import pairwise_tukeyhsd,MultiComparison\n",
        "\n",
        "df1=pd.DataFrame(Tehran_Acc,columns=[\"Acc\"])\n",
        "df1[\"ID\"]=1\n",
        "df2=pd.DataFrame(Ahwaz_Acc,columns=[\"Acc\"])\n",
        "df2[\"ID\"]=2\n",
        "df3=pd.DataFrame(Shiraz_Acc,columns=[\"Acc\"])\n",
        "df3[\"ID\"]=3\n",
        "df=pd.concat([df1,df2,df3])\n",
        "\n",
        "MultiComp = MultiComparison(df['Acc'],df['ID'])\n",
        "print(MultiComp.tukeyhsd().summary())\n"
      ],
      "metadata": {
        "id": "laPJzrH09fRQ",
        "colab": {
          "base_uri": "https://localhost:8080/"
        },
        "outputId": "d4c328e8-01dd-4623-dff4-6fcd539cbb14"
      },
      "execution_count": null,
      "outputs": [
        {
          "output_type": "stream",
          "name": "stdout",
          "text": [
            "Multiple Comparison of Means - Tukey HSD, FWER=0.05\n",
            "===================================================\n",
            "group1 group2 meandiff p-adj  lower   upper  reject\n",
            "---------------------------------------------------\n",
            "     1      2      0.0   1.0 -3.5135  3.5135  False\n",
            "     1      3     -4.1 0.018 -7.6135 -0.5865   True\n",
            "     2      3     -4.1 0.018 -7.6135 -0.5865   True\n",
            "---------------------------------------------------\n"
          ]
        }
      ]
    }
  ]
}