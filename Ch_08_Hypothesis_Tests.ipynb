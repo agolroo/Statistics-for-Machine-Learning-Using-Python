{
  "nbformat": 4,
  "nbformat_minor": 0,
  "metadata": {
    "colab": {
      "provenance": []
    },
    "kernelspec": {
      "name": "python3",
      "display_name": "Python 3"
    },
    "language_info": {
      "name": "python"
    }
  },
  "cells": [
    {
      "cell_type": "markdown",
      "source": [
        "Three hypothesis evaluation methods"
      ],
      "metadata": {
        "id": "kKUCqFP_tWT-"
      }
    },
    {
      "cell_type": "code",
      "execution_count": null,
      "metadata": {
        "id": "c2VFBDCGRCdr"
      },
      "outputs": [],
      "source": [
        "#Book Figure 8-2\n",
        "\n",
        "import numpy as np\n",
        "import pandas as pd\n",
        "import scipy\n",
        "from scipy import stats\n",
        "\n",
        "mu=52\n",
        "x_=48\n",
        "sig=10\n",
        "se=15\n",
        "n=25\n",
        "\n",
        "print ('First Problem:')\n",
        "#Calculating the confidence interval\n",
        "print(\"Z_confidence_interval:\", stats.norm.interval(alpha = 0.95,loc = x_, scale= sig/np.sqrt(n)))\n",
        "#Calculating the Z value to complete the z testing\n",
        "z_stat=(x_-mu)/(sig/np.sqrt(n))\n",
        "#calculating the p-value\n",
        "p_val=stats.norm.cdf(z_stat)\n",
        "Z_crt=stats.norm.ppf(0.975)\n",
        "print('Z_calculated=',z_stat, 'Z_critical=', Z_crt,\"pValue=\",p_val,)\n",
        "\n",
        "print ('Second Problem:')\n",
        "print(\"t_confidence_interval:\", stats.t.interval(alpha = 0.95,df=24,loc = x_, scale= se/np.sqrt(n)))\n",
        "t_stat=(x_-mu)/(se/np.sqrt(n))\n",
        "pt_val=stats.t.cdf(t_stat,df=24)\n",
        "t_crt=stats.t.ppf(0.975,df=24)\n",
        "print('t_calculated=',z_stat, 't_critical=', t_crt,\"pValue=\",pt_val)\n"
      ]
    },
    {
      "cell_type": "markdown",
      "source": [
        "Type I and II errors"
      ],
      "metadata": {
        "id": "VjYECvqw2m6n"
      }
    },
    {
      "cell_type": "code",
      "source": [
        "#Book Figure 8-4\n",
        "\n",
        "from scipy import stats\n",
        "\n",
        "lower_quantile = stats.norm.ppf(0.025)  # Lower cutoff value\n",
        "upper_quantile = stats.norm.ppf(0.975)  # Upper cutoff value\n",
        "\n",
        "# Area under alternative, to the left the lower cutoff value\n",
        "low = stats.norm.cdf(lower_quantile,\n",
        "                     loc=3,\n",
        "                     scale=2)\n",
        "\n",
        "# Area under alternative, to the left the upper cutoff value\n",
        "high = stats.norm.cdf(upper_quantile,\n",
        "                      loc=3,\n",
        "                      scale=2)\n",
        "\n",
        "# Area under the alternative, between the cutoffs (Type II error)\n",
        "print(\"Type II error:\", high-low)\n"
      ],
      "metadata": {
        "id": "ox13YQg12r4Z"
      },
      "execution_count": null,
      "outputs": []
    },
    {
      "cell_type": "markdown",
      "source": [
        "Dependent and independent populations"
      ],
      "metadata": {
        "id": "5ReLheMOvOeS"
      }
    },
    {
      "cell_type": "code",
      "source": [
        "#Book Figure 8-6\n",
        "\n",
        "import scipy.stats as stats\n",
        "from scipy.stats import f_oneway\n",
        "\n",
        "#Independent test:\n",
        "np.random.seed(12)\n",
        "Tehran_Acc = stats.poisson.rvs(loc=18, mu=30, size=30)\n",
        "Ahwaz_Acc = stats.poisson.rvs(loc=18, mu=28, size=30)\n",
        "print('Tehran vs Ahwaz:', stats.ttest_ind(a= Tehran_Acc,\n",
        "                b= Ahwaz_Acc,\n",
        "                equal_var=True))\n",
        "\n",
        "#dependent test:\n",
        "Ahwaz_Acc_Before = stats.poisson.rvs(loc=18, mu=30, size=30)\n",
        "Ahwaz_Acc_After = stats.poisson.rvs(loc=18, mu=26, size=30)\n",
        "print('Before after study in Ahwaz:', stats.ttest_rel(a = Ahwaz_Acc_Before,\n",
        "                b = Ahwaz_Acc_After))\n",
        "\n",
        "#ANOVA test:\n",
        "Tehran_Acc = stats.poisson.rvs(loc=18, mu=30, size=30)\n",
        "Ahwaz_Acc = stats.poisson.rvs(loc=18, mu=28, size=30)\n",
        "Shiraz_Acc = stats.poisson.rvs(loc=18, mu=26, size=30)\n",
        "print('Comparison among Tehran, Ahwaz, and Shiraz:',f_oneway(Tehran_Acc, Ahwaz_Acc, Shiraz_Acc))"
      ],
      "metadata": {
        "id": "BSnbTzWovWe5"
      },
      "execution_count": null,
      "outputs": []
    },
    {
      "cell_type": "markdown",
      "source": [
        "Tukey Test for paired comparison"
      ],
      "metadata": {
        "id": "54CAspGY9cyX"
      }
    },
    {
      "cell_type": "code",
      "source": [
        "#Book Figure 8-7\n",
        "\n",
        "from statsmodels.stats.multicomp import pairwise_tukeyhsd,MultiComparison\n",
        "\n",
        "df1=pd.DataFrame(Tehran_Acc,columns=[\"Acc\"])\n",
        "df1[\"ID\"]=1\n",
        "df2=pd.DataFrame(Ahwaz_Acc,columns=[\"Acc\"])\n",
        "df2[\"ID\"]=2\n",
        "df3=pd.DataFrame(Shiraz_Acc,columns=[\"Acc\"])\n",
        "df3[\"ID\"]=3\n",
        "df=pd.concat([df1,df2,df3])\n",
        "\n",
        "MultiComp = MultiComparison(df['Acc'],df['ID'])\n",
        "print(MultiComp.tukeyhsd().summary())\n"
      ],
      "metadata": {
        "id": "laPJzrH09fRQ"
      },
      "execution_count": null,
      "outputs": []
    }
  ]
}