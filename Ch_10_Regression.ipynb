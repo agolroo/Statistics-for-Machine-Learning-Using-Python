{
  "nbformat": 4,
  "nbformat_minor": 0,
  "metadata": {
    "colab": {
      "provenance": []
    },
    "kernelspec": {
      "name": "python3",
      "display_name": "Python 3"
    },
    "language_info": {
      "name": "python"
    }
  },
  "cells": [
    {
      "cell_type": "markdown",
      "source": [
        "**1) Simple linear regression**"
      ],
      "metadata": {
        "id": "CtAl51qeYvDh"
      }
    },
    {
      "cell_type": "markdown",
      "source": [
        "a) data preparation (missing data)"
      ],
      "metadata": {
        "id": "SQ9MVLX60mqN"
      }
    },
    {
      "cell_type": "code",
      "source": [
        "import pandas as pd\n",
        "\n",
        "!wget -O FuelConsumption.csv https://cf-courses-data.s3.us.cloud-object-storage.appdomain.cloud/IBMDeveloperSkillsNetwork-ML0101EN-SkillsNetwork/labs/Module%202/data/FuelConsumptionCo2.csv\n",
        "\n",
        "df = pd.read_csv(\"FuelConsumption.csv\")\n",
        "\n",
        "df.isna().sum()\n",
        "df['MODEL'].fillna(df['MODEL'].value_counts().idxmax(), inplace=True)\n",
        "df.drop(['MAKE'], axis=1, inplace=True)\n",
        "df.dropna(axis=0, inplace=True)\n",
        "df['CYLINDERS'].fillna(df['CYLINDERS'].mean(), inplace=True)\n",
        "df['ENGINESIZE'].interpolate('linear', inplace=True)"
      ],
      "metadata": {
        "id": "9HMY4pVZYzjv"
      },
      "execution_count": null,
      "outputs": []
    },
    {
      "cell_type": "markdown",
      "source": [
        "b) data preparation (standardization)"
      ],
      "metadata": {
        "id": "4ddboUtn4GMn"
      }
    },
    {
      "cell_type": "code",
      "source": [
        "from sklearn.preprocessing import StandardScaler\n",
        "import pandas as pd\n",
        "\n",
        "ss = StandardScaler()\n",
        "cdf = df[['ENGINESIZE','CO2EMISSIONS']]\n",
        "cdf_std = ss.fit_transform(cdf)\n",
        "cdf_std = pd.DataFrame(cdf_std,columns=cdf.columns)\n",
        "cdf_std.head()"
      ],
      "metadata": {
        "id": "u95bcE5805Uz"
      },
      "execution_count": null,
      "outputs": []
    },
    {
      "cell_type": "markdown",
      "source": [
        "c) linear correlation check"
      ],
      "metadata": {
        "id": "eW73ghI97L4T"
      }
    },
    {
      "cell_type": "code",
      "execution_count": null,
      "metadata": {
        "id": "9z4om368Mt0n"
      },
      "outputs": [],
      "source": [
        "import pandas as pd\n",
        "import matplotlib.pyplot as plt\n",
        "\n",
        "cdf = df[['ENGINESIZE','CO2EMISSIONS']]\n",
        "plt.scatter(cdf.ENGINESIZE, cdf.CO2EMISSIONS,  color='blue')\n",
        "plt.xlabel(\"Engine size\")\n",
        "plt.ylabel(\"Emission\")"
      ]
    },
    {
      "cell_type": "markdown",
      "source": [
        "d) data split"
      ],
      "metadata": {
        "id": "be8Fm3yR7Qaq"
      }
    },
    {
      "cell_type": "code",
      "source": [
        "from sklearn.model_selection import train_test_split\n",
        "import numpy as np\n",
        "\n",
        "X = np.asarray(cdf[['ENGINESIZE']])\n",
        "y = np.asarray(cdf['CO2EMISSIONS'])\n",
        "X_train, X_test, y_train, y_test = train_test_split( X, y, test_size=0.2, random_state=4)\n",
        "print ('Train set:', X_train.shape,  y_train.shape)\n",
        "print ('Test set:', X_test.shape,  y_test.shape)"
      ],
      "metadata": {
        "id": "wbh6SdcW7VD_"
      },
      "execution_count": null,
      "outputs": []
    },
    {
      "cell_type": "markdown",
      "source": [
        "e) model development"
      ],
      "metadata": {
        "id": "yJreoEnW8OTS"
      }
    },
    {
      "cell_type": "code",
      "source": [
        "from sklearn import linear_model\n",
        "\n",
        "regr = linear_model.LinearRegression()\n",
        "regr.fit (X_train, y_train)\n",
        "print ('Slope: ', regr.coef_)\n",
        "print ('Intercept: ',regr.intercept_)"
      ],
      "metadata": {
        "id": "ixTpIx318Vl6"
      },
      "execution_count": null,
      "outputs": []
    },
    {
      "cell_type": "markdown",
      "source": [
        "f) fit a line"
      ],
      "metadata": {
        "id": "_pYjRDr98i2J"
      }
    },
    {
      "cell_type": "code",
      "source": [
        "import matplotlib.pyplot as plt\n",
        "\n",
        "plt.scatter(X_train, y_train,  color='blue')\n",
        "yhat_train = regr.predict(X_train)\n",
        "plt.plot(X_train, yhat_train, '-r')\n",
        "plt.xlabel(\"Engine size\")\n",
        "plt.ylabel(\"Emission\")"
      ],
      "metadata": {
        "id": "_U6ipgc_83QJ"
      },
      "execution_count": null,
      "outputs": []
    },
    {
      "cell_type": "markdown",
      "source": [
        "g) model metrics"
      ],
      "metadata": {
        "id": "78ZaeQ5M9rXR"
      }
    },
    {
      "cell_type": "code",
      "source": [
        "from sklearn.metrics import r2_score\n",
        "import numpy as np\n",
        "\n",
        "yhat_test = regr.predict(X_test)\n",
        "print(\"Mean absolute error: %.2f\" % np.mean(np.absolute(yhat_test - y_test)))\n",
        "print(\"Mean sum of squares (MSE): %.2f\" % np.mean((yhat_test - y_test) ** 2))\n",
        "print(\"R2-score: %.2f\" % r2_score(y_test , yhat_test) )"
      ],
      "metadata": {
        "id": "q7Wb4-S39yGZ"
      },
      "execution_count": null,
      "outputs": []
    },
    {
      "cell_type": "markdown",
      "source": [
        "**2) Multiple regression**"
      ],
      "metadata": {
        "id": "1f4uid2P-nK5"
      }
    },
    {
      "cell_type": "code",
      "source": [
        "import numpy as np\n",
        "from sklearn import linear_model\n",
        "from sklearn.metrics import r2_score\n",
        "from sklearn.model_selection import train_test_split\n",
        "\n",
        "X = np.asarray(df[['ENGINESIZE','FUELCONSUMPTION_COMB','CYLINDERS']])\n",
        "y = np.asarray(df['CO2EMISSIONS'])\n",
        "X_train, X_test, y_train, y_test = train_test_split( X, y, test_size=0.2, random_state=4)\n",
        "\n",
        "regr = linear_model.LinearRegression()\n",
        "regr.fit (X_train, y_train)\n",
        "print ('Coefficient: ', regr.coef_)\n",
        "print ('Intercept: ',regr.intercept_)\n",
        "\n",
        "yhat_test= regr.predict(X_test)\n",
        "print(\"Mean absolute error: %.2f\" % np.mean(np.absolute(yhat_test - y_test)))\n",
        "print(\"Mean sum of squares (MSE): %.2f\" % np.mean((yhat_test - y_test) ** 2))\n",
        "print(\"R2-score: %.2f\" % r2_score(y_test , yhat_test) )"
      ],
      "metadata": {
        "id": "t6YdTJ0r-yyI"
      },
      "execution_count": null,
      "outputs": []
    },
    {
      "cell_type": "markdown",
      "source": [
        "a) stepwise regression"
      ],
      "metadata": {
        "id": "iXoQRu5j_0Lx"
      }
    },
    {
      "cell_type": "code",
      "source": [
        "from sklearn import linear_model\n",
        "from sklearn.model_selection import train_test_split\n",
        "from sklearn.metrics import accuracy_score\n",
        "from sklearn.linear_model import LinearRegression\n",
        "from mlxtend.feature_selection import SequentialFeatureSelector as SFS\n",
        "from mlxtend.plotting import plot_sequential_feature_selection as plot_sfs\n",
        "\n",
        "lr = LinearRegression()\n",
        "sfs = SFS(lr,k_features=3,forward=True, scoring='r2', cv=None)\n",
        "sfs = sfs.fit(X_train, y_train)\n",
        "\n",
        "X_train_sfs = sfs.transform(X_train)\n",
        "X_test_sfs = sfs.transform(X_test)\n",
        "\n",
        "lr.fit(X_train_sfs, y_train)\n",
        "y_pred = lr.predict(X_test_sfs)\n",
        "\n",
        "k = len(sfs.k_feature_names_)\n",
        "n = X_train.shape[0]\n",
        "r2 = sfs.k_score_\n",
        "adj_r2 = 1 - (1 - sfs.k_score_) * ((n - 1) / (n - k - 1))\n",
        "\n",
        "print(f'TRAIN R2: {r2}')\n",
        "print(f'TRAIN ADJUSTED R2: {adj_r2}')\n",
        "print(f'TEST R2: {r2_score(y_test, y_pred)}')\n",
        "\n",
        "fig = plot_sfs(sfs.get_metric_dict(), ylabel='R^2')\n",
        "plt.grid()\n",
        "plt.show()"
      ],
      "metadata": {
        "id": "GRcNSMvJ_6U5"
      },
      "execution_count": null,
      "outputs": []
    },
    {
      "cell_type": "markdown",
      "source": [
        "b) ridge regression"
      ],
      "metadata": {
        "id": "zkiwaX1-PAAm"
      }
    },
    {
      "cell_type": "code",
      "source": [
        "from sklearn.linear_model import Ridge\n",
        "from sklearn.metrics import mean_squared_error\n",
        "\n",
        "r = Ridge()\n",
        "r.fit(X_train, y_train)\n",
        "pred_results =r.predict(X_test)\n",
        "print('r2 score is:', r2_score(pred_results, y_test))\n",
        "print('mean squared error is:',mean_squared_error(pred_results, y_test))"
      ],
      "metadata": {
        "id": "tGFYGT1iPF17"
      },
      "execution_count": null,
      "outputs": []
    },
    {
      "cell_type": "markdown",
      "source": [
        "**3) Multinomial regression**"
      ],
      "metadata": {
        "id": "U2svSVGLQ5h2"
      }
    },
    {
      "cell_type": "markdown",
      "source": [
        "a) Pair-wise correlation"
      ],
      "metadata": {
        "id": "8FXVZE-uQ_eO"
      }
    },
    {
      "cell_type": "code",
      "source": [
        "import seaborn as sn\n",
        "\n",
        "sn.pairplot(df)"
      ],
      "metadata": {
        "id": "uNQ4KYQnRE_2"
      },
      "execution_count": null,
      "outputs": []
    },
    {
      "cell_type": "markdown",
      "source": [
        "b) model development and evaluation"
      ],
      "metadata": {
        "id": "5Q6S4CiNTM6G"
      }
    },
    {
      "cell_type": "code",
      "source": [
        "from sklearn.preprocessing import PolynomialFeatures\n",
        "from sklearn.metrics import r2_score\n",
        "from sklearn import linear_model\n",
        "import numpy as np\n",
        "\n",
        "X = np.asarray(df[['ENGINESIZE','FUELCONSUMPTION_COMB','CYLINDERS']])\n",
        "y = np.asarray(df['CO2EMISSIONS'])\n",
        "X_train, X_test, y_train, y_test = train_test_split( X, y, test_size=0.2, random_state=4)\n",
        "\n",
        "poly = PolynomialFeatures(degree=3)\n",
        "train_x_poly = poly.fit_transform(X_train)\n",
        "\n",
        "clf = linear_model.LinearRegression()\n",
        "train_y_ = clf.fit(train_x_poly, y_train)\n",
        "print ('Coefficients: ', clf.coef_)\n",
        "print ('Intercept: ',clf.intercept_)\n",
        "\n",
        "test_x_poly = poly.fit_transform(X_test)\n",
        "test_y_ = clf.predict(test_x_poly)\n",
        "print(\"Mean absolute error: %.2f\" % np.mean(np.absolute(test_y_ - y_test)))\n",
        "print(\"Residual sum of squares (MSE): %.2f\" % np.mean((test_y_ - y_test) ** 2))\n",
        "print(\"R2-score: %.2f\" % r2_score(y_test,test_y_ ) )"
      ],
      "metadata": {
        "id": "JJFg6_HSTYLz"
      },
      "execution_count": null,
      "outputs": []
    },
    {
      "cell_type": "markdown",
      "source": [
        "**4) Non-linear regression**"
      ],
      "metadata": {
        "id": "rbGffv23Vo0o"
      }
    },
    {
      "cell_type": "markdown",
      "source": [
        "a) sigmoid function"
      ],
      "metadata": {
        "id": "cxGOruCsVy6l"
      }
    },
    {
      "cell_type": "code",
      "source": [
        "import numpy as np\n",
        "import pandas as pd\n",
        "\n",
        "!wget -nv -O china_gdp.csv https://cf-courses-data.s3.us.cloud-object-storage.appdomain.cloud/IBMDeveloperSkillsNetwork-ML0101EN-SkillsNetwork/labs/Module%202/data/china_gdp.csv\n",
        "df = pd.read_csv(\"china_gdp.csv\")\n",
        "plt.figure(figsize=(8,5))\n",
        "x_data, y_data = (df[\"Year\"].values, df[\"Value\"].values)\n",
        "plt.plot(x_data, y_data, 'ro')\n",
        "plt.ylabel('GDP')\n",
        "plt.xlabel('Year')\n",
        "plt.show()"
      ],
      "metadata": {
        "id": "OfbdPelXV2Xi"
      },
      "execution_count": null,
      "outputs": []
    },
    {
      "cell_type": "markdown",
      "source": [
        "b) initial sigmoid model fit"
      ],
      "metadata": {
        "id": "IULRPDECWMsF"
      }
    },
    {
      "cell_type": "code",
      "source": [
        "import matplotlib.pyplot as plt\n",
        "\n",
        "def sigmoid(x, Beta_1, Beta_2):\n",
        "     y = 1 / (1 + np.exp(-Beta_1*(x-Beta_2)))\n",
        "     return y\n",
        "beta_1 = 0.10\n",
        "beta_2 = 1990.0\n",
        "Y_pred = sigmoid(x_data, beta_1 , beta_2)\n",
        "plt.plot(x_data, Y_pred*15000000000000.)\n",
        "plt.plot(x_data, y_data, 'ro')\n",
        "plt.ylabel('GDP')\n",
        "plt.xlabel('Year')"
      ],
      "metadata": {
        "id": "VQj-hGbhXUFW"
      },
      "execution_count": null,
      "outputs": []
    },
    {
      "cell_type": "markdown",
      "source": [
        "c) final sigmoid model fit"
      ],
      "metadata": {
        "id": "UCx5e9l6Bso0"
      }
    },
    {
      "cell_type": "code",
      "source": [
        "from scipy.optimize import curve_fit\n",
        "import matplotlib.pyplot as plt\n",
        "\n",
        "xdata =x_data/max(x_data)\n",
        "ydata =y_data/max(y_data)\n",
        "popt, pcov = curve_fit(sigmoid, xdata, ydata)\n",
        "print(\" beta_1 = %f, beta_2 = %f\" % (popt[0], popt[1]))\n",
        "x = np.linspace(1960, 2015, 55)\n",
        "x = x/max(x)\n",
        "plt.figure(figsize=(8,5))\n",
        "y = sigmoid(x, *popt)\n",
        "plt.plot(xdata, ydata, 'ro', label='data')\n",
        "plt.plot(x,y, linewidth=3.0, label='fit')\n",
        "plt.legend(loc='best')\n",
        "plt.ylabel('GDP')\n",
        "plt.xlabel('Year')\n",
        "plt.show()"
      ],
      "metadata": {
        "id": "ED8Q41FpB3Yw"
      },
      "execution_count": null,
      "outputs": []
    },
    {
      "cell_type": "markdown",
      "source": [
        "d) model evaluation"
      ],
      "metadata": {
        "id": "UjgMn7e1CtSp"
      }
    },
    {
      "cell_type": "code",
      "source": [
        "from sklearn.metrics import r2_score\n",
        "\n",
        "msk = np.random.rand(len(df)) < 0.8\n",
        "train_x = xdata[msk]\n",
        "test_x = xdata[~msk]\n",
        "train_y = ydata[msk]\n",
        "test_y = ydata[~msk]\n",
        "popt, pcov = curve_fit(sigmoid, train_x, train_y)\n",
        "y_hat = sigmoid(test_x, *popt)\n",
        "print(\"Mean absolute error: %.2f\" % np.mean(np.absolute(y_hat - test_y)))\n",
        "print(\"Residual sum of squares (MSE): %.2f\" % np.mean((y_hat - test_y) ** 2))\n",
        "print(\"R2-score: %.2f\" % r2_score(y_hat , test_y) )"
      ],
      "metadata": {
        "id": "g7Ha3QDJCxp1"
      },
      "execution_count": null,
      "outputs": []
    }
  ]
}