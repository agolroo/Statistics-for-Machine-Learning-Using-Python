{
  "nbformat": 4,
  "nbformat_minor": 0,
  "metadata": {
    "colab": {
      "provenance": []
    },
    "kernelspec": {
      "name": "python3",
      "display_name": "Python 3"
    },
    "language_info": {
      "name": "python"
    }
  },
  "cells": [
    {
      "cell_type": "markdown",
      "source": [
        "**1) Simple linear regression**"
      ],
      "metadata": {
        "id": "CtAl51qeYvDh"
      }
    },
    {
      "cell_type": "markdown",
      "source": [
        "a) data preparation (missing data)"
      ],
      "metadata": {
        "id": "SQ9MVLX60mqN"
      }
    },
    {
      "cell_type": "code",
      "source": [
        "# Book Figure 10-1\n",
        "\n",
        "import pandas as pd\n",
        "\n",
        "!wget -O FuelConsumption.csv https://cf-courses-data.s3.us.cloud-object-storage.appdomain.cloud/IBMDeveloperSkillsNetwork-ML0101EN-SkillsNetwork/labs/Module%202/data/FuelConsumptionCo2.csv\n",
        "\n",
        "df = pd.read_csv(\"FuelConsumption.csv\")\n",
        "\n",
        "df.isna().sum()\n",
        "df['MODEL'].fillna(df['MODEL'].value_counts().idxmax(), inplace=True)\n",
        "df.drop(['MAKE'], axis=1, inplace=True)\n",
        "df.dropna(axis=0, inplace=True)\n",
        "df['CYLINDERS'].fillna(df['CYLINDERS'].mean(), inplace=True)\n",
        "df['ENGINESIZE'].interpolate('linear', inplace=True)"
      ],
      "metadata": {
        "id": "9HMY4pVZYzjv",
        "colab": {
          "base_uri": "https://localhost:8080/"
        },
        "outputId": "71f0cfca-e1df-4f73-c5c5-21ae4f0e449e"
      },
      "execution_count": 1,
      "outputs": [
        {
          "output_type": "stream",
          "name": "stdout",
          "text": [
            "--2023-12-04 06:05:45--  https://cf-courses-data.s3.us.cloud-object-storage.appdomain.cloud/IBMDeveloperSkillsNetwork-ML0101EN-SkillsNetwork/labs/Module%202/data/FuelConsumptionCo2.csv\n",
            "Resolving cf-courses-data.s3.us.cloud-object-storage.appdomain.cloud (cf-courses-data.s3.us.cloud-object-storage.appdomain.cloud)... 169.45.118.108\n",
            "Connecting to cf-courses-data.s3.us.cloud-object-storage.appdomain.cloud (cf-courses-data.s3.us.cloud-object-storage.appdomain.cloud)|169.45.118.108|:443... connected.\n",
            "HTTP request sent, awaiting response... 200 OK\n",
            "Length: 72629 (71K) [text/csv]\n",
            "Saving to: ‘FuelConsumption.csv’\n",
            "\n",
            "FuelConsumption.csv 100%[===================>]  70.93K  --.-KB/s    in 0.05s   \n",
            "\n",
            "2023-12-04 06:05:45 (1.36 MB/s) - ‘FuelConsumption.csv’ saved [72629/72629]\n",
            "\n"
          ]
        }
      ]
    },
    {
      "cell_type": "markdown",
      "source": [
        "b) data preparation (standardization)"
      ],
      "metadata": {
        "id": "4ddboUtn4GMn"
      }
    },
    {
      "cell_type": "code",
      "source": [
        "# Book Figure 10-2\n",
        "\n",
        "from sklearn.preprocessing import StandardScaler\n",
        "import pandas as pd\n",
        "\n",
        "ss = StandardScaler()\n",
        "cdf = df[['ENGINESIZE','CO2EMISSIONS']]\n",
        "cdf_std = ss.fit_transform(cdf)\n",
        "cdf_std = pd.DataFrame(cdf_std,columns=cdf.columns)\n",
        "cdf_std.head()"
      ],
      "metadata": {
        "id": "u95bcE5805Uz",
        "colab": {
          "base_uri": "https://localhost:8080/",
          "height": 206
        },
        "outputId": "94daa131-56f2-4ed0-d97f-cfb90249b183"
      },
      "execution_count": 2,
      "outputs": [
        {
          "output_type": "execute_result",
          "data": {
            "text/plain": [
              "   ENGINESIZE  CO2EMISSIONS\n",
              "0   -0.951292     -0.950840\n",
              "1   -0.668653     -0.556161\n",
              "2   -1.304591     -1.898070\n",
              "3    0.108606     -0.019397\n",
              "4    0.108606     -0.193056"
            ],
            "text/html": [
              "\n",
              "  <div id=\"df-3eec6a8f-7cf9-4cf9-a1d8-047469f73957\" class=\"colab-df-container\">\n",
              "    <div>\n",
              "<style scoped>\n",
              "    .dataframe tbody tr th:only-of-type {\n",
              "        vertical-align: middle;\n",
              "    }\n",
              "\n",
              "    .dataframe tbody tr th {\n",
              "        vertical-align: top;\n",
              "    }\n",
              "\n",
              "    .dataframe thead th {\n",
              "        text-align: right;\n",
              "    }\n",
              "</style>\n",
              "<table border=\"1\" class=\"dataframe\">\n",
              "  <thead>\n",
              "    <tr style=\"text-align: right;\">\n",
              "      <th></th>\n",
              "      <th>ENGINESIZE</th>\n",
              "      <th>CO2EMISSIONS</th>\n",
              "    </tr>\n",
              "  </thead>\n",
              "  <tbody>\n",
              "    <tr>\n",
              "      <th>0</th>\n",
              "      <td>-0.951292</td>\n",
              "      <td>-0.950840</td>\n",
              "    </tr>\n",
              "    <tr>\n",
              "      <th>1</th>\n",
              "      <td>-0.668653</td>\n",
              "      <td>-0.556161</td>\n",
              "    </tr>\n",
              "    <tr>\n",
              "      <th>2</th>\n",
              "      <td>-1.304591</td>\n",
              "      <td>-1.898070</td>\n",
              "    </tr>\n",
              "    <tr>\n",
              "      <th>3</th>\n",
              "      <td>0.108606</td>\n",
              "      <td>-0.019397</td>\n",
              "    </tr>\n",
              "    <tr>\n",
              "      <th>4</th>\n",
              "      <td>0.108606</td>\n",
              "      <td>-0.193056</td>\n",
              "    </tr>\n",
              "  </tbody>\n",
              "</table>\n",
              "</div>\n",
              "    <div class=\"colab-df-buttons\">\n",
              "\n",
              "  <div class=\"colab-df-container\">\n",
              "    <button class=\"colab-df-convert\" onclick=\"convertToInteractive('df-3eec6a8f-7cf9-4cf9-a1d8-047469f73957')\"\n",
              "            title=\"Convert this dataframe to an interactive table.\"\n",
              "            style=\"display:none;\">\n",
              "\n",
              "  <svg xmlns=\"http://www.w3.org/2000/svg\" height=\"24px\" viewBox=\"0 -960 960 960\">\n",
              "    <path d=\"M120-120v-720h720v720H120Zm60-500h600v-160H180v160Zm220 220h160v-160H400v160Zm0 220h160v-160H400v160ZM180-400h160v-160H180v160Zm440 0h160v-160H620v160ZM180-180h160v-160H180v160Zm440 0h160v-160H620v160Z\"/>\n",
              "  </svg>\n",
              "    </button>\n",
              "\n",
              "  <style>\n",
              "    .colab-df-container {\n",
              "      display:flex;\n",
              "      gap: 12px;\n",
              "    }\n",
              "\n",
              "    .colab-df-convert {\n",
              "      background-color: #E8F0FE;\n",
              "      border: none;\n",
              "      border-radius: 50%;\n",
              "      cursor: pointer;\n",
              "      display: none;\n",
              "      fill: #1967D2;\n",
              "      height: 32px;\n",
              "      padding: 0 0 0 0;\n",
              "      width: 32px;\n",
              "    }\n",
              "\n",
              "    .colab-df-convert:hover {\n",
              "      background-color: #E2EBFA;\n",
              "      box-shadow: 0px 1px 2px rgba(60, 64, 67, 0.3), 0px 1px 3px 1px rgba(60, 64, 67, 0.15);\n",
              "      fill: #174EA6;\n",
              "    }\n",
              "\n",
              "    .colab-df-buttons div {\n",
              "      margin-bottom: 4px;\n",
              "    }\n",
              "\n",
              "    [theme=dark] .colab-df-convert {\n",
              "      background-color: #3B4455;\n",
              "      fill: #D2E3FC;\n",
              "    }\n",
              "\n",
              "    [theme=dark] .colab-df-convert:hover {\n",
              "      background-color: #434B5C;\n",
              "      box-shadow: 0px 1px 3px 1px rgba(0, 0, 0, 0.15);\n",
              "      filter: drop-shadow(0px 1px 2px rgba(0, 0, 0, 0.3));\n",
              "      fill: #FFFFFF;\n",
              "    }\n",
              "  </style>\n",
              "\n",
              "    <script>\n",
              "      const buttonEl =\n",
              "        document.querySelector('#df-3eec6a8f-7cf9-4cf9-a1d8-047469f73957 button.colab-df-convert');\n",
              "      buttonEl.style.display =\n",
              "        google.colab.kernel.accessAllowed ? 'block' : 'none';\n",
              "\n",
              "      async function convertToInteractive(key) {\n",
              "        const element = document.querySelector('#df-3eec6a8f-7cf9-4cf9-a1d8-047469f73957');\n",
              "        const dataTable =\n",
              "          await google.colab.kernel.invokeFunction('convertToInteractive',\n",
              "                                                    [key], {});\n",
              "        if (!dataTable) return;\n",
              "\n",
              "        const docLinkHtml = 'Like what you see? Visit the ' +\n",
              "          '<a target=\"_blank\" href=https://colab.research.google.com/notebooks/data_table.ipynb>data table notebook</a>'\n",
              "          + ' to learn more about interactive tables.';\n",
              "        element.innerHTML = '';\n",
              "        dataTable['output_type'] = 'display_data';\n",
              "        await google.colab.output.renderOutput(dataTable, element);\n",
              "        const docLink = document.createElement('div');\n",
              "        docLink.innerHTML = docLinkHtml;\n",
              "        element.appendChild(docLink);\n",
              "      }\n",
              "    </script>\n",
              "  </div>\n",
              "\n",
              "\n",
              "<div id=\"df-d3b5ffa5-e726-4ebf-a1e6-0bb2f18f3727\">\n",
              "  <button class=\"colab-df-quickchart\" onclick=\"quickchart('df-d3b5ffa5-e726-4ebf-a1e6-0bb2f18f3727')\"\n",
              "            title=\"Suggest charts\"\n",
              "            style=\"display:none;\">\n",
              "\n",
              "<svg xmlns=\"http://www.w3.org/2000/svg\" height=\"24px\"viewBox=\"0 0 24 24\"\n",
              "     width=\"24px\">\n",
              "    <g>\n",
              "        <path d=\"M19 3H5c-1.1 0-2 .9-2 2v14c0 1.1.9 2 2 2h14c1.1 0 2-.9 2-2V5c0-1.1-.9-2-2-2zM9 17H7v-7h2v7zm4 0h-2V7h2v10zm4 0h-2v-4h2v4z\"/>\n",
              "    </g>\n",
              "</svg>\n",
              "  </button>\n",
              "\n",
              "<style>\n",
              "  .colab-df-quickchart {\n",
              "      --bg-color: #E8F0FE;\n",
              "      --fill-color: #1967D2;\n",
              "      --hover-bg-color: #E2EBFA;\n",
              "      --hover-fill-color: #174EA6;\n",
              "      --disabled-fill-color: #AAA;\n",
              "      --disabled-bg-color: #DDD;\n",
              "  }\n",
              "\n",
              "  [theme=dark] .colab-df-quickchart {\n",
              "      --bg-color: #3B4455;\n",
              "      --fill-color: #D2E3FC;\n",
              "      --hover-bg-color: #434B5C;\n",
              "      --hover-fill-color: #FFFFFF;\n",
              "      --disabled-bg-color: #3B4455;\n",
              "      --disabled-fill-color: #666;\n",
              "  }\n",
              "\n",
              "  .colab-df-quickchart {\n",
              "    background-color: var(--bg-color);\n",
              "    border: none;\n",
              "    border-radius: 50%;\n",
              "    cursor: pointer;\n",
              "    display: none;\n",
              "    fill: var(--fill-color);\n",
              "    height: 32px;\n",
              "    padding: 0;\n",
              "    width: 32px;\n",
              "  }\n",
              "\n",
              "  .colab-df-quickchart:hover {\n",
              "    background-color: var(--hover-bg-color);\n",
              "    box-shadow: 0 1px 2px rgba(60, 64, 67, 0.3), 0 1px 3px 1px rgba(60, 64, 67, 0.15);\n",
              "    fill: var(--button-hover-fill-color);\n",
              "  }\n",
              "\n",
              "  .colab-df-quickchart-complete:disabled,\n",
              "  .colab-df-quickchart-complete:disabled:hover {\n",
              "    background-color: var(--disabled-bg-color);\n",
              "    fill: var(--disabled-fill-color);\n",
              "    box-shadow: none;\n",
              "  }\n",
              "\n",
              "  .colab-df-spinner {\n",
              "    border: 2px solid var(--fill-color);\n",
              "    border-color: transparent;\n",
              "    border-bottom-color: var(--fill-color);\n",
              "    animation:\n",
              "      spin 1s steps(1) infinite;\n",
              "  }\n",
              "\n",
              "  @keyframes spin {\n",
              "    0% {\n",
              "      border-color: transparent;\n",
              "      border-bottom-color: var(--fill-color);\n",
              "      border-left-color: var(--fill-color);\n",
              "    }\n",
              "    20% {\n",
              "      border-color: transparent;\n",
              "      border-left-color: var(--fill-color);\n",
              "      border-top-color: var(--fill-color);\n",
              "    }\n",
              "    30% {\n",
              "      border-color: transparent;\n",
              "      border-left-color: var(--fill-color);\n",
              "      border-top-color: var(--fill-color);\n",
              "      border-right-color: var(--fill-color);\n",
              "    }\n",
              "    40% {\n",
              "      border-color: transparent;\n",
              "      border-right-color: var(--fill-color);\n",
              "      border-top-color: var(--fill-color);\n",
              "    }\n",
              "    60% {\n",
              "      border-color: transparent;\n",
              "      border-right-color: var(--fill-color);\n",
              "    }\n",
              "    80% {\n",
              "      border-color: transparent;\n",
              "      border-right-color: var(--fill-color);\n",
              "      border-bottom-color: var(--fill-color);\n",
              "    }\n",
              "    90% {\n",
              "      border-color: transparent;\n",
              "      border-bottom-color: var(--fill-color);\n",
              "    }\n",
              "  }\n",
              "</style>\n",
              "\n",
              "  <script>\n",
              "    async function quickchart(key) {\n",
              "      const quickchartButtonEl =\n",
              "        document.querySelector('#' + key + ' button');\n",
              "      quickchartButtonEl.disabled = true;  // To prevent multiple clicks.\n",
              "      quickchartButtonEl.classList.add('colab-df-spinner');\n",
              "      try {\n",
              "        const charts = await google.colab.kernel.invokeFunction(\n",
              "            'suggestCharts', [key], {});\n",
              "      } catch (error) {\n",
              "        console.error('Error during call to suggestCharts:', error);\n",
              "      }\n",
              "      quickchartButtonEl.classList.remove('colab-df-spinner');\n",
              "      quickchartButtonEl.classList.add('colab-df-quickchart-complete');\n",
              "    }\n",
              "    (() => {\n",
              "      let quickchartButtonEl =\n",
              "        document.querySelector('#df-d3b5ffa5-e726-4ebf-a1e6-0bb2f18f3727 button');\n",
              "      quickchartButtonEl.style.display =\n",
              "        google.colab.kernel.accessAllowed ? 'block' : 'none';\n",
              "    })();\n",
              "  </script>\n",
              "</div>\n",
              "    </div>\n",
              "  </div>\n"
            ]
          },
          "metadata": {},
          "execution_count": 2
        }
      ]
    },
    {
      "cell_type": "markdown",
      "source": [
        "c) linear correlation check"
      ],
      "metadata": {
        "id": "eW73ghI97L4T"
      }
    },
    {
      "cell_type": "code",
      "execution_count": 3,
      "metadata": {
        "id": "9z4om368Mt0n",
        "colab": {
          "base_uri": "https://localhost:8080/",
          "height": 466
        },
        "outputId": "d183bfeb-9c51-4456-ca77-74dbc08776b0"
      },
      "outputs": [
        {
          "output_type": "execute_result",
          "data": {
            "text/plain": [
              "Text(0, 0.5, 'Emission')"
            ]
          },
          "metadata": {},
          "execution_count": 3
        },
        {
          "output_type": "display_data",
          "data": {
            "text/plain": [
              "<Figure size 640x480 with 1 Axes>"
            ],
            "image/png": "[encoded data removed]"
          },
          "metadata": {}
        }
      ],
      "source": [
        "# Book Figure 10-3\n",
        "\n",
        "import pandas as pd\n",
        "import matplotlib.pyplot as plt\n",
        "\n",
        "cdf = df[['ENGINESIZE','CO2EMISSIONS']]\n",
        "plt.scatter(cdf.ENGINESIZE, cdf.CO2EMISSIONS,  color='blue')\n",
        "plt.xlabel(\"Engine size\")\n",
        "plt.ylabel(\"Emission\")"
      ]
    },
    {
      "cell_type": "markdown",
      "source": [
        "d) data split"
      ],
      "metadata": {
        "id": "be8Fm3yR7Qaq"
      }
    },
    {
      "cell_type": "code",
      "source": [
        "# Book Figure 10-6\n",
        "\n",
        "from sklearn.model_selection import train_test_split\n",
        "import numpy as np\n",
        "\n",
        "X = np.asarray(cdf[['ENGINESIZE']])\n",
        "y = np.asarray(cdf['CO2EMISSIONS'])\n",
        "X_train, X_test, y_train, y_test = train_test_split( X, y, test_size=0.2, random_state=4)\n",
        "print ('Train set:', X_train.shape,  y_train.shape)\n",
        "print ('Test set:', X_test.shape,  y_test.shape)\n"
      ],
      "metadata": {
        "id": "wbh6SdcW7VD_",
        "colab": {
          "base_uri": "https://localhost:8080/"
        },
        "outputId": "b30cd0aa-0ef9-4b50-ca8d-8f249c7ffa0f"
      },
      "execution_count": 52,
      "outputs": [
        {
          "output_type": "stream",
          "name": "stdout",
          "text": [
            "Train set: (853, 1) (853,)\n",
            "Test set: (214, 1) (214,)\n"
          ]
        }
      ]
    },
    {
      "cell_type": "markdown",
      "source": [
        "e) model development"
      ],
      "metadata": {
        "id": "yJreoEnW8OTS"
      }
    },
    {
      "cell_type": "code",
      "source": [
        "# Book Figure 10-7\n",
        "\n",
        "from sklearn import linear_model\n",
        "\n",
        "regr = linear_model.LinearRegression()\n",
        "regr.fit (X_train, y_train)\n",
        "print ('Slope: ', regr.coef_)\n",
        "print ('Intercept: ',regr.intercept_)"
      ],
      "metadata": {
        "id": "ixTpIx318Vl6",
        "colab": {
          "base_uri": "https://localhost:8080/"
        },
        "outputId": "c50dc390-4fa7-44dd-f3c9-bd2ac4525072"
      },
      "execution_count": 26,
      "outputs": [
        {
          "output_type": "stream",
          "name": "stdout",
          "text": [
            "Slope:  [39.116937]\n",
            "Intercept:  125.14677575630918\n"
          ]
        }
      ]
    },
    {
      "cell_type": "markdown",
      "source": [
        "f) fit a line"
      ],
      "metadata": {
        "id": "_pYjRDr98i2J"
      }
    },
    {
      "cell_type": "code",
      "source": [
        "# Book Figure 10-9\n",
        "\n",
        "import matplotlib.pyplot as plt\n",
        "\n",
        "plt.scatter(X_train, y_train,  color='blue')\n",
        "yhat_train = regr.predict(X_train)\n",
        "plt.plot(X_train, yhat_train, '-r')\n",
        "plt.xlabel(\"Engine size\")\n",
        "plt.ylabel(\"Emission\")\n"
      ],
      "metadata": {
        "id": "_U6ipgc_83QJ",
        "colab": {
          "base_uri": "https://localhost:8080/",
          "height": 466
        },
        "outputId": "2b399bb9-1ed7-43f6-c953-bd958f738540"
      },
      "execution_count": 21,
      "outputs": [
        {
          "output_type": "execute_result",
          "data": {
            "text/plain": [
              "Text(0, 0.5, 'Emission')"
            ]
          },
          "metadata": {},
          "execution_count": 21
        },
        {
          "output_type": "display_data",
          "data": {
            "text/plain": [
              "<Figure size 640x480 with 1 Axes>"
            ],
            "image/png": "[encoded data removed]"
          },
          "metadata": {}
        }
      ]
    },
    {
      "cell_type": "markdown",
      "source": [
        "g) model metrics"
      ],
      "metadata": {
        "id": "78ZaeQ5M9rXR"
      }
    },
    {
      "cell_type": "code",
      "source": [
        "# Book Figure 10-10\n",
        "\n",
        "from sklearn.metrics import r2_score\n",
        "import numpy as np\n",
        "\n",
        "yhat_test = regr.predict(X_test)\n",
        "print(\"Mean absolute error: %.2f\" % np.mean(np.absolute(yhat_test - y_test)))\n",
        "print(\"Mean sum of squares (MSE): %.2f\" % np.mean((yhat_test - y_test) ** 2))\n",
        "print(\"R2-score: %.2f\" % r2_score(y_test , yhat_test) )"
      ],
      "metadata": {
        "id": "q7Wb4-S39yGZ",
        "colab": {
          "base_uri": "https://localhost:8080/"
        },
        "outputId": "506ab138-8dc9-4e1b-a008-8ae325d13888"
      },
      "execution_count": 7,
      "outputs": [
        {
          "output_type": "stream",
          "name": "stdout",
          "text": [
            "Mean absolute error: 19.98\n",
            "Mean sum of squares (MSE): 687.19\n",
            "R2-score: 0.81\n"
          ]
        }
      ]
    },
    {
      "cell_type": "markdown",
      "source": [
        "h) more metrics"
      ],
      "metadata": {
        "id": "kbgY6wUKeICO"
      }
    },
    {
      "cell_type": "code",
      "source": [
        "import pandas as pd\n",
        "import numpy as np\n",
        "from sklearn import datasets, linear_model\n",
        "from sklearn.linear_model import LinearRegression\n",
        "import statsmodels.api as sm\n",
        "from scipy import stats\n",
        "\n",
        "X2 = sm.add_constant(X_train)\n",
        "est = sm.OLS(y_train, X2)\n",
        "est2 = est.fit()\n",
        "print(est2.summary())"
      ],
      "metadata": {
        "colab": {
          "base_uri": "https://localhost:8080/"
        },
        "id": "-5nmR9QMeLUv",
        "outputId": "4512165b-6791-45fd-b67d-e08f796c25c0"
      },
      "execution_count": 13,
      "outputs": [
        {
          "output_type": "stream",
          "name": "stdout",
          "text": [
            "                            OLS Regression Results                            \n",
            "==============================================================================\n",
            "Dep. Variable:                      y   R-squared:                       0.815\n",
            "Model:                            OLS   Adj. R-squared:                  0.814\n",
            "Method:                 Least Squares   F-statistic:                     935.0\n",
            "Date:                Mon, 04 Dec 2023   Prob (F-statistic):           1.15e-79\n",
            "Time:                        06:21:53   Log-Likelihood:                -1002.5\n",
            "No. Observations:                 214   AIC:                             2009.\n",
            "Df Residuals:                     212   BIC:                             2016.\n",
            "Df Model:                           1                                         \n",
            "Covariance Type:            nonrobust                                         \n",
            "==============================================================================\n",
            "                 coef    std err          t      P>|t|      [0.025      0.975]\n",
            "------------------------------------------------------------------------------\n",
            "const        125.9650      4.674     26.949      0.000     116.751     135.179\n",
            "x1            39.1478      1.280     30.578      0.000      36.624      41.672\n",
            "==============================================================================\n",
            "Omnibus:                       10.145   Durbin-Watson:                   2.267\n",
            "Prob(Omnibus):                  0.006   Jarque-Bera (JB):               11.453\n",
            "Skew:                           0.407   Prob(JB):                      0.00326\n",
            "Kurtosis:                       3.789   Cond. No.                         10.1\n",
            "==============================================================================\n",
            "\n",
            "Notes:\n",
            "[1] Standard Errors assume that the covariance matrix of the errors is correctly specified.\n"
          ]
        }
      ]
    },
    {
      "cell_type": "markdown",
      "source": [
        "i) model validation"
      ],
      "metadata": {
        "id": "_5p33721hL37"
      }
    },
    {
      "cell_type": "code",
      "source": [
        "import scipy.stats as stats\n",
        "from scipy.stats import f_oneway\n",
        "\n",
        "fig, ax = plt.subplots(figsize = (9, 9))\n",
        "ax.scatter(y_test , yhat_test, s=60, alpha=0.7, edgecolors=\"k\")\n",
        "plt.xlabel(\"Y Actual\")\n",
        "plt.ylabel(\"Y Predicted\")\n",
        "b, a = np.polyfit(y_test , yhat_test, deg=1)\n",
        "\n",
        "xseq = np.linspace(0, 400, num=100)\n",
        "print(\"Intercept: \",a,\"Slope: \",b)\n",
        "ax.plot(xseq, a + b * xseq, color=\"k\", lw=2.5);\n",
        "print(\"R2-score: %.2f\" % r2_score(yhat_test , a+b*y_test) )\n",
        "\n",
        "y_test2 = y_test[:,np.newaxis]\n",
        "c, _, _, _ = np.linalg.lstsq(y_test2,yhat_test)\n",
        "plt.plot(y_test2, c*y_test, 'r-')\n",
        "print(\"Intercept: \",0,\"Slope: \",c)\n",
        "print(\"R2-score: %.2f\" % r2_score(yhat_test , c*y_test) )\n",
        "plt.show()\n",
        "\n",
        "#two sample t-test (unpaired)\n",
        "print('Predicted vs Actual:', stats.ttest_ind(y_test , yhat_test,equal_var=True))\n"
      ],
      "metadata": {
        "colab": {
          "base_uri": "https://localhost:8080/",
          "height": 932
        },
        "id": "qpQe30EmhO9Y",
        "outputId": "327cfc17-ee6b-4f7c-f0d0-0122742a14ae"
      },
      "execution_count": 58,
      "outputs": [
        {
          "output_type": "stream",
          "name": "stdout",
          "text": [
            "Intercept:  46.9076882426067 Slope:  0.814525205606948\n",
            "R2-score: 0.82\n",
            "Intercept:  0 Slope:  [0.98680395]\n",
            "R2-score: 0.78\n"
          ]
        },
        {
          "output_type": "stream",
          "name": "stderr",
          "text": [
            "<ipython-input-58-e1462516c1a9>:16: FutureWarning: `rcond` parameter will change to the default of machine precision times ``max(M, N)`` where M and N are the input matrix dimensions.\n",
            "To use the future default and silence this warning we advise to pass `rcond=None`, to keep using the old, explicitly pass `rcond=-1`.\n",
            "  c, _, _, _ = np.linalg.lstsq(y_test2,yhat_test)\n"
          ]
        },
        {
          "output_type": "display_data",
          "data": {
            "text/plain": [
              "<Figure size 900x900 with 1 Axes>"
            ],
            "image/png": "[encoded data removed]"
          },
          "metadata": {}
        },
        {
          "output_type": "stream",
          "name": "stdout",
          "text": [
            "Predicted vs Actual: TtestResult(statistic=0.16400846391058638, pvalue=0.8698022653117469, df=426.0)\n"
          ]
        }
      ]
    },
    {
      "cell_type": "markdown",
      "source": [
        "**2) Multiple regression**"
      ],
      "metadata": {
        "id": "1f4uid2P-nK5"
      }
    },
    {
      "cell_type": "code",
      "source": [
        "# Book Figure 10-11\n",
        "\n",
        "import numpy as np\n",
        "from sklearn import linear_model\n",
        "from sklearn.metrics import r2_score\n",
        "from sklearn.model_selection import train_test_split\n",
        "\n",
        "X = np.asarray(df[['ENGINESIZE','FUELCONSUMPTION_COMB','CYLINDERS']])\n",
        "y = np.asarray(df['CO2EMISSIONS'])\n",
        "X_train, X_test, y_train, y_test = train_test_split( X, y, test_size=0.2, random_state=4)\n",
        "\n",
        "regr = linear_model.LinearRegression()\n",
        "regr.fit (X_train, y_train)\n",
        "print ('Coefficient: ', regr.coef_)\n",
        "print ('Intercept: ',regr.intercept_)\n",
        "\n",
        "yhat_test= regr.predict(X_test)\n",
        "print(\"Mean absolute error: %.2f\" % np.mean(np.absolute(yhat_test - y_test)))\n",
        "print(\"Mean sum of squares (MSE): %.2f\" % np.mean((yhat_test - y_test) ** 2))\n",
        "print(\"R2-score: %.2f\" % r2_score(y_test , yhat_test) )"
      ],
      "metadata": {
        "id": "t6YdTJ0r-yyI"
      },
      "execution_count": null,
      "outputs": []
    },
    {
      "cell_type": "markdown",
      "source": [
        "a) stepwise regression"
      ],
      "metadata": {
        "id": "iXoQRu5j_0Lx"
      }
    },
    {
      "cell_type": "code",
      "source": [
        "# Book Figure 10-12\n",
        "\n",
        "from sklearn import linear_model\n",
        "from sklearn.model_selection import train_test_split\n",
        "from sklearn.metrics import accuracy_score\n",
        "from sklearn.linear_model import LinearRegression\n",
        "from mlxtend.feature_selection import SequentialFeatureSelector as SFS\n",
        "from mlxtend.plotting import plot_sequential_feature_selection as plot_sfs\n",
        "\n",
        "lr = LinearRegression()\n",
        "sfs = SFS(lr,k_features=3,forward=True, scoring='r2', cv=None)\n",
        "sfs = sfs.fit(X_train, y_train)\n",
        "\n",
        "X_train_sfs = sfs.transform(X_train)\n",
        "X_test_sfs = sfs.transform(X_test)\n",
        "\n",
        "lr.fit(X_train_sfs, y_train)\n",
        "y_pred = lr.predict(X_test_sfs)\n",
        "\n",
        "k = len(sfs.k_feature_names_)\n",
        "n = X_train.shape[0]\n",
        "r2 = sfs.k_score_\n",
        "adj_r2 = 1 - (1 - sfs.k_score_) * ((n - 1) / (n - k - 1))\n",
        "\n",
        "print(f'TRAIN R2: {r2}')\n",
        "print(f'TRAIN ADJUSTED R2: {adj_r2}')\n",
        "print(f'TEST R2: {r2_score(y_test, y_pred)}')\n",
        "\n",
        "fig = plot_sfs(sfs.get_metric_dict(), ylabel='R^2')\n",
        "plt.grid()\n",
        "plt.show()"
      ],
      "metadata": {
        "id": "GRcNSMvJ_6U5"
      },
      "execution_count": null,
      "outputs": []
    },
    {
      "cell_type": "markdown",
      "source": [
        "b) ridge regression"
      ],
      "metadata": {
        "id": "zkiwaX1-PAAm"
      }
    },
    {
      "cell_type": "code",
      "source": [
        "# Book Figure 10-16\n",
        "\n",
        "from sklearn.linear_model import Ridge\n",
        "from sklearn.metrics import mean_squared_error\n",
        "\n",
        "r = Ridge()\n",
        "r.fit(X_train, y_train)\n",
        "pred_results =r.predict(X_test)\n",
        "print('r2 score is:', r2_score(pred_results, y_test))\n",
        "print('mean squared error is:',mean_squared_error(pred_results, y_test))"
      ],
      "metadata": {
        "id": "tGFYGT1iPF17"
      },
      "execution_count": null,
      "outputs": []
    },
    {
      "cell_type": "markdown",
      "source": [
        "**3) Multinomial regression**"
      ],
      "metadata": {
        "id": "U2svSVGLQ5h2"
      }
    },
    {
      "cell_type": "markdown",
      "source": [
        "a) Pair-wise correlation"
      ],
      "metadata": {
        "id": "8FXVZE-uQ_eO"
      }
    },
    {
      "cell_type": "code",
      "source": [
        "# Book Figure 10-17\n",
        "\n",
        "import seaborn as sn\n",
        "\n",
        "sn.pairplot(df)"
      ],
      "metadata": {
        "id": "uNQ4KYQnRE_2"
      },
      "execution_count": null,
      "outputs": []
    },
    {
      "cell_type": "markdown",
      "source": [
        "b) model development and evaluation"
      ],
      "metadata": {
        "id": "5Q6S4CiNTM6G"
      }
    },
    {
      "cell_type": "code",
      "source": [
        "# Book Figure 10-19\n",
        "\n",
        "from sklearn.preprocessing import PolynomialFeatures\n",
        "from sklearn.metrics import r2_score\n",
        "from sklearn import linear_model\n",
        "import numpy as np\n",
        "\n",
        "X = np.asarray(df[['ENGINESIZE','FUELCONSUMPTION_COMB','CYLINDERS']])\n",
        "y = np.asarray(df['CO2EMISSIONS'])\n",
        "X_train, X_test, y_train, y_test = train_test_split( X, y, test_size=0.2, random_state=4)\n",
        "\n",
        "poly = PolynomialFeatures(degree=3)\n",
        "train_x_poly = poly.fit_transform(X_train)\n",
        "\n",
        "clf = linear_model.LinearRegression()\n",
        "train_y_ = clf.fit(train_x_poly, y_train)\n",
        "print ('Coefficients: ', clf.coef_)\n",
        "print ('Intercept: ',clf.intercept_)\n",
        "\n",
        "test_x_poly = poly.fit_transform(X_test)\n",
        "test_y_ = clf.predict(test_x_poly)\n",
        "print(\"Mean absolute error: %.2f\" % np.mean(np.absolute(test_y_ - y_test)))\n",
        "print(\"Residual sum of squares (MSE): %.2f\" % np.mean((test_y_ - y_test) ** 2))\n",
        "print(\"R2-score: %.2f\" % r2_score(y_test,test_y_ ) )"
      ],
      "metadata": {
        "id": "JJFg6_HSTYLz"
      },
      "execution_count": null,
      "outputs": []
    },
    {
      "cell_type": "markdown",
      "source": [
        "**4) Non-linear regression**"
      ],
      "metadata": {
        "id": "rbGffv23Vo0o"
      }
    },
    {
      "cell_type": "markdown",
      "source": [
        "a) sigmoid function"
      ],
      "metadata": {
        "id": "cxGOruCsVy6l"
      }
    },
    {
      "cell_type": "code",
      "source": [
        "# Book Figure 10-22\n",
        "\n",
        "import numpy as np\n",
        "import pandas as pd\n",
        "\n",
        "!wget -nv -O china_gdp.csv https://cf-courses-data.s3.us.cloud-object-storage.appdomain.cloud/IBMDeveloperSkillsNetwork-ML0101EN-SkillsNetwork/labs/Module%202/data/china_gdp.csv\n",
        "df = pd.read_csv(\"china_gdp.csv\")\n",
        "plt.figure(figsize=(8,5))\n",
        "x_data, y_data = (df[\"Year\"].values, df[\"Value\"].values)\n",
        "plt.plot(x_data, y_data, 'ro')\n",
        "plt.ylabel('GDP')\n",
        "plt.xlabel('Year')\n",
        "plt.show()"
      ],
      "metadata": {
        "id": "OfbdPelXV2Xi"
      },
      "execution_count": null,
      "outputs": []
    },
    {
      "cell_type": "markdown",
      "source": [
        "b) initial sigmoid model fit"
      ],
      "metadata": {
        "id": "IULRPDECWMsF"
      }
    },
    {
      "cell_type": "code",
      "source": [
        "# Book Figure 10-25\n",
        "\n",
        "import matplotlib.pyplot as plt\n",
        "\n",
        "def sigmoid(x, Beta_1, Beta_2):\n",
        "     y = 1 / (1 + np.exp(-Beta_1*(x-Beta_2)))\n",
        "     return y\n",
        "beta_1 = 0.10\n",
        "beta_2 = 1990.0\n",
        "Y_pred = sigmoid(x_data, beta_1 , beta_2)\n",
        "plt.plot(x_data, Y_pred*15000000000000.)\n",
        "plt.plot(x_data, y_data, 'ro')\n",
        "plt.ylabel('GDP')\n",
        "plt.xlabel('Year')"
      ],
      "metadata": {
        "id": "VQj-hGbhXUFW"
      },
      "execution_count": null,
      "outputs": []
    },
    {
      "cell_type": "markdown",
      "source": [
        "c) final sigmoid model fit"
      ],
      "metadata": {
        "id": "UCx5e9l6Bso0"
      }
    },
    {
      "cell_type": "code",
      "source": [
        "# Book Figure 10-26\n",
        "\n",
        "from scipy.optimize import curve_fit\n",
        "import matplotlib.pyplot as plt\n",
        "\n",
        "xdata =x_data/max(x_data)\n",
        "ydata =y_data/max(y_data)\n",
        "popt, pcov = curve_fit(sigmoid, xdata, ydata)\n",
        "print(\" beta_1 = %f, beta_2 = %f\" % (popt[0], popt[1]))\n",
        "x = np.linspace(1960, 2015, 55)\n",
        "x = x/max(x)\n",
        "plt.figure(figsize=(8,5))\n",
        "y = sigmoid(x, *popt)\n",
        "plt.plot(xdata, ydata, 'ro', label='data')\n",
        "plt.plot(x,y, linewidth=3.0, label='fit')\n",
        "plt.legend(loc='best')\n",
        "plt.ylabel('GDP')\n",
        "plt.xlabel('Year')\n",
        "plt.show()"
      ],
      "metadata": {
        "id": "ED8Q41FpB3Yw"
      },
      "execution_count": null,
      "outputs": []
    },
    {
      "cell_type": "markdown",
      "source": [
        "d) model evaluation"
      ],
      "metadata": {
        "id": "UjgMn7e1CtSp"
      }
    },
    {
      "cell_type": "code",
      "source": [
        "# Book Figure 10-28\n",
        "\n",
        "from sklearn.metrics import r2_score\n",
        "\n",
        "msk = np.random.rand(len(df)) < 0.8\n",
        "train_x = xdata[msk]\n",
        "test_x = xdata[~msk]\n",
        "train_y = ydata[msk]\n",
        "test_y = ydata[~msk]\n",
        "popt, pcov = curve_fit(sigmoid, train_x, train_y)\n",
        "y_hat = sigmoid(test_x, *popt)\n",
        "print(\"Mean absolute error: %.2f\" % np.mean(np.absolute(y_hat - test_y)))\n",
        "print(\"Residual sum of squares (MSE): %.2f\" % np.mean((y_hat - test_y) ** 2))\n",
        "print(\"R2-score: %.2f\" % r2_score(y_hat , test_y) )"
      ],
      "metadata": {
        "id": "g7Ha3QDJCxp1"
      },
      "execution_count": null,
      "outputs": []
    }
  ]
}