{
  "nbformat": 4,
  "nbformat_minor": 0,
  "metadata": {
    "colab": {
      "provenance": []
    },
    "kernelspec": {
      "name": "python3",
      "display_name": "Python 3"
    },
    "language_info": {
      "name": "python"
    }
  },
  "cells": [
    {
      "cell_type": "markdown",
      "source": [
        "Dice event"
      ],
      "metadata": {
        "id": "r5uTEuAETp97"
      }
    },
    {
      "cell_type": "code",
      "execution_count": null,
      "metadata": {
        "id": "ccWtJTJdPqui"
      },
      "outputs": [],
      "source": [
        "# Book Figure 5-1\n",
        "t=0\n",
        "Sample_Space=[]\n",
        "for i in range(1,7):\n",
        "  for j in range (1,7):\n",
        "    for k in range (1,7):\n",
        "    # if i>=j: # two similar dices\n",
        "      t=0\n",
        "      if i ==6:\n",
        "        t+=1\n",
        "      if j ==6:\n",
        "        t+=1\n",
        "      if k ==6:\n",
        "        t+=1\n",
        "      Sample_Space.append((t,i,j,k))\n",
        "\n",
        "print(\"Sample Size:\", len(Sample_Space))\n",
        "print(\"Sample Space:\", Sample_Space)\n",
        "print(\"Event:\", (6,6))\n",
        "print(\"Probability of the Event:\", 1/36)\n"
      ]
    },
    {
      "cell_type": "code",
      "source": [
        "import matplotlib.pyplot as plt\n",
        "import numpy as np\n",
        "NUM_ROLLS = 1000\n",
        "values = [1, 2,3,4,5,6]\n",
        "#Fair\n",
        "# sample = np.random.choice(values, NUM_ROLLS)\n",
        "#Unfair\n",
        "probs = [0.1, 0.1, 0.1, 0.1, 0.1, 0.5]\n",
        "sample = np.random.choice(values, NUM_ROLLS, p=probs)\n",
        "side, count = np.unique(sample, return_counts=True)\n",
        "probs = count / len(sample)\n",
        "plt.bar(side, probs, color='blue')\n",
        "plt.title(\n",
        "    f\"Discrete Probability Distribution for Fair 6-Sided Die ({NUM_ROLLS} rolls)\")\n",
        "plt.ylabel(\"Probability\")\n",
        "plt.xlabel(\"Outcome\")\n",
        "plt.show()"
      ],
      "metadata": {
        "id": "WaI9olkZeKVU"
      },
      "execution_count": null,
      "outputs": []
    },
    {
      "cell_type": "markdown",
      "source": [
        "Intersection and Union"
      ],
      "metadata": {
        "id": "bJ8pf-NIYp87"
      }
    },
    {
      "cell_type": "code",
      "source": [
        "# Book Figure 5-2\n",
        "\n",
        "A = {1,2,3,4,5,6,7,8,9}\n",
        "B = {1,3,5,7,9}\n",
        "C = {2,4,6,8}\n",
        "print(\"intersection of A and B is\", A.intersection(B))\n",
        "print(\"Union of A and B is\", A.union(B))\n",
        "print(\"If A is the Universal Set, Complement of B is\", A.difference(B))\n",
        "print(\"Is B subset of A?\", B.issubset(A))\n",
        "print(\"Is A superset of B?\", A.issuperset(B))\n",
        "print(\"intersection of C and B is\", C.intersection(B), \"Therefore it is a Null Set\")\n",
        "print(\"intersection of C and B is\", C.intersection(B), \"Therefore they are Mutually Exclusive\")\n",
        "print(\"Union of B and C is\", B.union(C), \"Therefore they are Collectively Exhaustive\")\n"
      ],
      "metadata": {
        "id": "f01wp6o8Ytl6",
        "colab": {
          "base_uri": "https://localhost:8080/"
        },
        "outputId": "50808d96-89a9-4b72-bd9c-8c5344dc71a3"
      },
      "execution_count": 2,
      "outputs": [
        {
          "output_type": "stream",
          "name": "stdout",
          "text": [
            "intersection of A and B is {1, 3, 5, 7, 9}\n",
            "Union of A and B is {1, 2, 3, 4, 5, 6, 7, 8, 9}\n",
            "If A is the Universal Set, Complement of B is {8, 2, 4, 6}\n",
            "Is B subset of A? True\n",
            "Is A superset of B? True\n",
            "intersection of C and B is set() Therefore it is a Null Set\n",
            "intersection of C and B is set() Therefore they are Mutually Exclusive\n",
            "Union of B and C is {1, 2, 3, 4, 5, 6, 7, 8, 9} Therefore they are Collectively Exhaustive\n"
          ]
        }
      ]
    },
    {
      "cell_type": "markdown",
      "source": [
        "Conditional Probability"
      ],
      "metadata": {
        "id": "KuEPb2odd9y7"
      }
    },
    {
      "cell_type": "code",
      "source": [
        "# Book Figure 5-3\n",
        "\n",
        "A = {1,2,3,4,5,6,7,8,9}\n",
        "B = {1,3,5,7,9}\n",
        "C = {2,4,6,8}\n",
        "D = {2,3,5,8}\n",
        "\n",
        "Sample_State_Length=len(A)\n",
        "prior_prob_D=len(D)/Sample_State_Length\n",
        "intersection_B_D=len(B.intersection(D))/Sample_State_Length\n",
        "print(\"Conditional probability of B given D is\", intersection_B_D/prior_prob_D)\n"
      ],
      "metadata": {
        "colab": {
          "base_uri": "https://localhost:8080/"
        },
        "id": "zMpn2BCPeAqg",
        "outputId": "40174a25-4df2-4fd0-b507-85b098ae8848"
      },
      "execution_count": 4,
      "outputs": [
        {
          "output_type": "stream",
          "name": "stdout",
          "text": [
            "Conditional probability of D given B is 0.5\n"
          ]
        }
      ]
    },
    {
      "cell_type": "markdown",
      "source": [
        "Independent vs Dependent Events"
      ],
      "metadata": {
        "id": "fxyX6MtRhlHw"
      }
    },
    {
      "cell_type": "code",
      "source": [
        "# Book Figure 5-4\n",
        "\n",
        "A = {1,2,3,4,5,6,7,8,9}\n",
        "B = {1,3,5,7,9}\n",
        "C = {2,4,6,8}\n",
        "D = {2,3,5,8}\n",
        "\n",
        "Sample_State_Length=len(A)\n",
        "Prob_B=len(B)/Sample_State_Length\n",
        "Prob_C=len(C)/Sample_State_Length\n",
        "print(\"Independent: Intersection probability of B and C is\", Prob_B*Prob_C)\n",
        "con_prob_D_B = intersection_D_B/prior_prob_D\n",
        "print(\"Dependent: Intersection probability of D and B is\", con_prob_D_B*Prob_B)\n",
        "\n"
      ],
      "metadata": {
        "id": "iXNq7JCmhiXL",
        "colab": {
          "base_uri": "https://localhost:8080/"
        },
        "outputId": "ae92cfa5-d956-4093-a893-abe666de4dab"
      },
      "execution_count": 5,
      "outputs": [
        {
          "output_type": "stream",
          "name": "stdout",
          "text": [
            "Independent: Intersection probability of B and C is 0.24691358024691357\n",
            "Dependent: Intersection probability of D and B is 0.2777777777777778\n"
          ]
        }
      ]
    },
    {
      "cell_type": "markdown",
      "source": [
        "Bayes Theorem"
      ],
      "metadata": {
        "id": "06Sw9vfTpIUl"
      }
    },
    {
      "cell_type": "code",
      "source": [
        "# Book Figure 5-5\n",
        "\n",
        "def post_prob(prior_prob_A, prior_prob_B, cond_prob_A_B):\n",
        "  return(cond_prob_A_B*prior_prob_B/prior_prob_A)\n",
        "cond_prob_A_B=.9\n",
        "prior_prob_B=0.01\n",
        "cond_prob_A_B_Prime=.05\n",
        "prior_prob_B_Prime=0.99\n",
        "prior_prob_A=cond_prob_A_B*prior_prob_B+cond_prob_A_B_Prime*prior_prob_B_Prime\n",
        "print(\"Postorior probability of B given A is \", post_prob(prior_prob_A, prior_prob_B, cond_prob_A_B))"
      ],
      "metadata": {
        "id": "hFIw1heZpK9W",
        "colab": {
          "base_uri": "https://localhost:8080/"
        },
        "outputId": "ceb96072-443c-4520-b303-7f748ec1435a"
      },
      "execution_count": 16,
      "outputs": [
        {
          "output_type": "stream",
          "name": "stdout",
          "text": [
            "Postorior probability of B given A is  0.8461538461538461\n"
          ]
        }
      ]
    }
  ]
}