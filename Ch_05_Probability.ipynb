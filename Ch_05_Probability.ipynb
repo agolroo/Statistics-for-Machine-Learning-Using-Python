{
  "nbformat": 4,
  "nbformat_minor": 0,
  "metadata": {
    "colab": {
      "provenance": []
    },
    "kernelspec": {
      "name": "python3",
      "display_name": "Python 3"
    },
    "language_info": {
      "name": "python"
    }
  },
  "cells": [
    {
      "cell_type": "markdown",
      "source": [
        "Dice event"
      ],
      "metadata": {
        "id": "r5uTEuAETp97"
      }
    },
    {
      "cell_type": "code",
      "execution_count": null,
      "metadata": {
        "id": "ccWtJTJdPqui"
      },
      "outputs": [],
      "source": [
        "# Book Figure 5-1\n",
        "\n",
        "Sample_Space=[]\n",
        "for i in range(1,7):\n",
        "  for j in range (1,7):\n",
        "    Sample_Space.append((i,j))\n",
        "print(\"Sample Size:\", len(Sample_Space))\n",
        "print(\"Sample Space:\", Sample_Space)\n",
        "print(\"Event:\", (6,6))\n",
        "print(\"Probability of the Event:\", 1/36)\n"
      ]
    },
    {
      "cell_type": "markdown",
      "source": [
        "Intersection and Union"
      ],
      "metadata": {
        "id": "bJ8pf-NIYp87"
      }
    },
    {
      "cell_type": "code",
      "source": [
        "# Book Figure 5-2\n",
        "\n",
        "A = {1,2,3,4,5,6,7,8,9}\n",
        "B = {1,3,5,7,9}\n",
        "C = {2,4,6,8}\n",
        "print(\"intersection of A and B is\", A.intersection(B))\n",
        "print(\"Union of A and B is\", A.union(B))\n",
        "print(\"If A is the Universal Set, Complement of B is\", A.difference(B))\n",
        "print(\"Is B subset of A?\", B.issubset(A))\n",
        "print(\"Is A superset of B?\", A.issuperset(B))\n",
        "print(\"intersection of C and B is\", C.intersection(B), \"Therefore it is a Null Set\")\n",
        "print(\"intersection of C and B is\", C.intersection(B), \"Therefore they are Mutually Exclusive\")\n",
        "print(\"Union of B and C is\", B.union(C), \"Therefore they are Collectively Exhaustive\")\n"
      ],
      "metadata": {
        "id": "f01wp6o8Ytl6"
      },
      "execution_count": null,
      "outputs": []
    },
    {
      "cell_type": "markdown",
      "source": [
        "Conditional Probability"
      ],
      "metadata": {
        "id": "KuEPb2odd9y7"
      }
    },
    {
      "cell_type": "code",
      "source": [
        "# Book Figure 5-3\n",
        "\n",
        "A = {1,2,3,4,5,6,7,8,9}\n",
        "B = {1,3,5,7,9}\n",
        "C = {2,4,6,8}\n",
        "D = {2,3,5,8}\n",
        "\n",
        "Sample_State_Length=len(A)\n",
        "prior_prob_D=len(D)/Sample_State_Length\n",
        "intersection_D_B=len(D.intersection(B))/Sample_State_Length\n",
        "print(\"Conditional probability of D given B is\", intersection_D_B/prior_prob_D)\n"
      ],
      "metadata": {
        "colab": {
          "base_uri": "https://localhost:8080/"
        },
        "id": "zMpn2BCPeAqg",
        "outputId": "a86809bd-09b6-4f44-9d8b-0d85e3d5af9b"
      },
      "execution_count": 6,
      "outputs": [
        {
          "output_type": "stream",
          "name": "stdout",
          "text": [
            "Conditional probability of D given B is 0.5\n"
          ]
        }
      ]
    },
    {
      "cell_type": "markdown",
      "source": [
        "Independent vs Dependent Events"
      ],
      "metadata": {
        "id": "fxyX6MtRhlHw"
      }
    },
    {
      "cell_type": "code",
      "source": [
        "# Book Figure 5-4\n",
        "\n",
        "A = {1,2,3,4,5,6,7,8,9}\n",
        "B = {1,3,5,7,9}\n",
        "C = {2,4,6,8}\n",
        "D = {2,3,5,8}\n",
        "\n",
        "Sample_State_Length=len(A)\n",
        "Prob_B=len(B)/Sample_State_Length\n",
        "Prob_C=len(C)/Sample_State_Length\n",
        "print(\"Independent: Intersection probability of B and C is\", Prob_B*Prob_C)\n",
        "con_prob_D_B = intersection_D_B/prior_prob_D\n",
        "print(\"Dependent: Intersection probability of D and B is\", con_prob_D_B*Prob_B)\n",
        "\n"
      ],
      "metadata": {
        "id": "iXNq7JCmhiXL"
      },
      "execution_count": null,
      "outputs": []
    },
    {
      "cell_type": "markdown",
      "source": [
        "Bayes Theorem"
      ],
      "metadata": {
        "id": "06Sw9vfTpIUl"
      }
    },
    {
      "cell_type": "code",
      "source": [
        "# Book Figure 5-5\n",
        "\n",
        "def post_prob(prior_prob_A, prior_prob_B, cond_prob_A_B):\n",
        "  return(cond_prob_A_B*prior_prob_B/prior_prob_A)\n",
        "cond_prob_A_B=.8\n",
        "prior_prob_B=0.25\n",
        "cond_prob_A_B_Prime=.05\n",
        "prior_prob_B_Prime=0.75\n",
        "prior_prob_A=cond_prob_A_B*prior_prob_B+cond_prob_A_B_Prime*prior_prob_B_Prime\n",
        "print(\"Postorior probability of B given A is \", post_prob(prior_prob_A=0.40, prior_prob_B=0.25, cond_prob_A_B=0.8))"
      ],
      "metadata": {
        "id": "hFIw1heZpK9W"
      },
      "execution_count": null,
      "outputs": []
    }
  ]
}